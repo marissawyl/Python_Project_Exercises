{
 "cells": [
  {
   "cell_type": "code",
   "execution_count": 1,
   "id": "2dbfc84a",
   "metadata": {},
   "outputs": [],
   "source": [
    "import pandas as pd\n",
    "import numpy as np\n",
    "import plotly.graph_objects as go"
   ]
  },
  {
   "cell_type": "code",
   "execution_count": 2,
   "id": "1a9b3d3c",
   "metadata": {},
   "outputs": [
    {
     "data": {
      "application/vnd.plotly.v1+json": {
       "config": {
        "plotlyServerURL": "https://plot.ly"
       },
       "data": [
        {
         "marker": {
          "color": "blue",
          "opacity": 0.6,
          "size": 6
         },
         "mode": "markers",
         "type": "scatter",
         "x": {
          "bdata": "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",
          "dtype": "f8"
         },
         "y": {
          "bdata": "AAAAAAAA+H8Fq/+0yREQQPqJEywHSABAsgTKQr3tE0AS/8vLSDkhQHhNlMD+7gBAYfh2Mpi9L8Ba2gp/KU8UQHABJobocN8/zrCIeXZsBED8wzXvPPEUQDyCdNfYMxbAI8EInEVoBMAoMsoVmyruv5BMdmrdhgpASjfbtH57B8CBBbEbUxgEwBD5ORJ95whA1Fd8xVd8DUAgGil0rFa2v4h0uVBcIee/Wfakjfj2AMCZEu3TwUcGwOL89OvuTAjAUFniL7lfHEDitlgjVq4NQKx2d3LOuinAE3fnepJSFUC4aTFfiZD6P2CNzK6eAOu/NNReUyFG9T8gSIM0SIPUPxjcpakhtuu/MAihifPhx79oo1j9yQrgP5pnUf4XBP+/7k6sOCbqDcBftXMpE7IhwDyZvkoYmxXA0F9uAu5R9T+wRiZvd4bRv0oiNonG0PS/8YtJAc5WCMDeXs8KEIccwLjC5H29wCJA5GkM+nTB+r9GY0nXWxIVwIhVStFsA/k/APa5RJH6qj/EUjtyUjviv7WvK4j0eCXAousVbenrCUAyP62PJMcVQMB2Fejz6bA/4sMXbI6kI8DK4K7DjEn2v4iJauPwUyBAMBHuGRqH5b9W2CQeHWUUwE7nTApZ0AdAllGeLbF28L/N2l1/n0kzQGCoj1wCycK/UMSBND5hyL/ghuzpLLzPv3zIHw//6RTAAEDQXCLB/b/6TFaBNUcJQGI5HlLPCPe/HPRh0Xcb8D+YaF49ZUnUvzBHRyDTk+4/gN+q5QVr97+IPMuIPqDyP+RI8ivqM+m/uEo7oWQo9r8G2KW1S2Lzv+TLgmEPtum/YmRKKQ+0C8Aato+0vXoHwMTKVfDcDvK/4HWqh8dZ5b9oMVTbl44PQIAItEX3YLY/QC7DQQ/v4L/f6UnqKd4ywGfj05WdvBRAJEXmyTQN7b8sJb1WFioZwHRAEAIHvOa/LVUo+J22EkAsm4J71D0hwMRdAvZ0vvs/6CTMyS445D8Ibx85nrQJQCAx/TRJidO/5LaeDac/A8AAorJApyHqP9wg7MDLSgLAWvbDfi2EMcBIX4YwOYsuQICJzH5SraQ/2iqBit7S+r9NrOxEBpslQHcNKLrCwihAbqOqlyJPAkDtyj3CkNYXwJXshMYfUwrANyKkyMZHEkAooV6f5qDlv/jEjoo11d6/cDwXjJZV+b+oGiXE5SrmP1S/tWDA1P0/YkX+luctH8BUGkCdh8Pjv1psnoE7XxPA6F+4XSiZ7D94B6/dpSX5P0CrFMZlnbg/rO3tmQEWAkCyc59yW0r9v/X14/ivrwTA+L2D+A7i0788GxlHW2nlvwIquFz/rvC/RlmqSH9jAkBw8pA1bbDTP1zZ3xdn4gBAuCL2UT2x8T+MwXE1e1sLwBgULmT5vOI/kJN9VOPnxr8QHzqZqPbnP4gdABwopOc/ANRGpYEuxz+gpXRgLf/HPwxapgPA0eK/ANbaHGVbkr8i0sU1SrkhQJj9U5De7fM/hU1GF/GvGkAsNSk6tZjqv3hZ9U2dQ+4/wk6l9cWwIUAy9+iwrI4AQP/mm7mWswDAINs3NCdN8D9qcr04EZ/4v02qi13LmCBAqJbw10C29T/ARftzsc3wP47MyzzHSRNA+HVgDvft8D+nBEAB6icPwJjVrdDTAQZA+K2RvuL86r/Ar8UIIN7IP+Dq2b173cY/cEqCYVAF8b/oWXl3IqvjPx67GvTopwjALjUuhXocHcDarsvMQwECQPJ5XENTZA7A2Kl/wYGWBUDgZCQnxTDAv6ZaZhG9OAlAoMZVGiZi3r8+e33aLAf6v+D4g89g+eS/ANafT7AYwj+0oKUjqZPzP7xfTPD5Bfa/CJZZzftM/7+pccQkywEGwAaCaLj65wRAzhfxm9wwBkDAevC0q26+vyxWIKdpjPA/9mRX1sKbGECAZnsG0TTEP2DBAFOnJPk/tEiXnzYf7L92dE6xXfEBwMDOgz0xQb8/OKG+hU0L5j/I+HX8On79v0C0xCLE8b0/ADqcSAtnqb8gZmhsBtvzv9bZ8sePxANAwNORPQNR0T/qez93MzTyv464GPs3VvK/4DIKlT511z8oAIaYyqjov1hRBFEEUfA/0GK+uds47T9AWk5HRfylv9Bj/aqseOe/aEguaAtW0b/gE7E5oie7v3AtuSAFCda/MzRngarVBsDg852daDq7vxg+TjHjG+y/KFLKu74N1b8a9AfjP/z1v3CpelL6+sS/f/k+UE/cB8D4dGRDOrkKQBQVafqgsPc/BH4NcGIR7r9IMxYiFePcv0DWF/6eBNc/6Ed9Rx0n4r+g9gEswUXBv5jZhPz6GOc/6JTAIyAp5D8o8x4qmVXhv1CMK4YPWtI/DWGWMAfiA8D4OiuftK7yv+ik6iPyIhDAuKMKUAbGHcD0K2UUbVX8v0VXWZPtRBJADGdwnzB7FcA0DugRPK0YwDmiov4anxRA0p80bbQIFkC0m+YUKnDwP9ADR38hzOO/EswjGabaCMAMitc/VWoAQE41UxPPOfK/vMKUmC3h/D+gJsHPhAS1v1itEPri6OS/AB9eOn7lwT90GTIIwd7qv/zkdEdtAxXA/O3BwT5K47+oaT396y7hPwBHQNaVKKE/3vFkkNo3BECiCmshrKb0vzDp29i4utM/CKyv7qTU4L8ojdcYnnr5v0Cp017dzME/gC7/Ax+b6z/A2SLC6NO0P4hU+1w5rtq/4DCax8K+0D8wIX5sa6nNv6DKrADK3+C/7IVyTulV/7/0pvN7a/j9v9Q4amBYxBzAz5lDOuvuG8AISZIkSZIMQPbFVsaguAPAEGUjnwS46j9aexpA5rogQH9vrUSvHAfAt45J6CD8BcBuQEP00sH7v8wkikDEbPO/hEppPeldFsColDlK7APdv1oqPd9OcAhAFL/gHdp0679z+yNYhNQBwE7YaNUfmBDA5u9r1qALIcCHjbn1F1YEwKo/oNsN4wdA6DRbz/ed/T9lrn194O0TQHjWz4dyZwtAjI5e815r7r+AtWQklTLKP4mw+/rg8BFA7BFQQGYQCUCMT5qTEm8FQN5V5PPXWPi/LyuMbVe+CMCwpo2zRRPUPxBLFcWPAgBA8DX3x7rm3r8uQPO72IT7v3CCfeZCV+4/hGG0zDd9679e2n/wy9MZwAAredy2/5O/VvBH3k+8CMBOvy8Vyh0BQNh+s6uv2t6/oNS1sIb89D/PLpybA6QYwErDIkXPKwdAt1JmcrMxAMASFCS8LLkNwIAYBsctAaY/YHJuZMtM4D/gS9jH6rjsPx6wnFwsyQVA9jsaPe0XB0DQtRCYNHj/v3ht9SKesOw/foUgj9ySFEBYw8g05R7wPwCt2WiH3Mo//p5vYMVjLkC8GL7dHE7lvwObQC9JyhXAWHIJVhHPFcD+lEq6yf0IQGDS+10YBb+/zWi7W642CcCgbdu2bdv2P1APVM5u4RfAuGEHtxJB/7+Aase2PuHiP1doHli1mhBAyDy7DGxOBEDwpAIh6lHav1aN8IbpwP2/kDkNPQOW1j9IWsfrV1j9PwCsmgMmUtC/+K94ghvR5T9g0Zn5lFDUPwBCImm1YeE/QmR7N2hv+r+qrMlNARX3v6yKBc2hYv8/pCQdBgx+4b+Aw4+hrSy1P+G06geUIQzAcrRqzXBrBcCKkbhVBZP6vzSAV0XCH/M/gOaIWHKI4j9O7SGgKmv3v6QZBRY6k/M/aI6RZVOT/L/5mNOpLi8VwCVvihWgzgHArLLIxeP2BMAcEKZWbYsAQECm/KODgQ5Akj1JCJ0cBsCI0e8OfI0LQAhxvdAC1+k/Mz9IfgjKDMBmw73MQXbxv1xaarcYWAZAv9nLwPtrDcCQIt2WNfbbPwR6weJ9DPe/2HJw3qDA479Kjyq5OlQIQGKsCjOwrv2/oM2Fl1jFzz+9Vbhcso0lwHhHFzsuCRjA3IObdQ0hD0CseUZkhxQRQD4lXZk1yAZAFsNIncbeDcA+H8991e4DQODBmL8pgBXAKKBO48KbCsAgEb6+/cbpPxKW3dtmUi/A+h8W8FUlNcCXAQF1StIxQHD6hifViOq/mElqoOj9EMDXt6okBz4WQKIjWWrzMAFAIOgB0JFv+r85Qhti2oIdQCRgJ3/t8wZAkEO3h5IQzb9ZUX3xerYZQIAwQ+dq8gJArihn3P0iH0COwa8TczkNwDF1myAbcibAENwi0YXjxb+LRswBhEEIwFAIL0AhsQ/AAQc94Cx+EUCHomJ/EtgTQElifKcCZxLAoKF3XJmnx7+lZabToSwRwMbSy2ZuAwNAEKilS0i5A0AsTH+VVH3+vyQhiLg4ove/IFOX9whnv79oP9kXQOzSvwguYAuOwvI/H6Gc+EOoGECQHhzKg5giQGYJlHjqfCHAQHtKyLa12r88SlMbWLYQQFxQOWI16AfALNieOAW++j+sMHFgX073P5C2SEKcsNM/UKg+09b4C8Cs10UbAbvzP2CSqjIIE7C/2K8b1c8F4b9QvNysXwfcvwdygXcZcB1AYP1vyQ2vxT/4+X0QhbACQI7rx+gdyBdA/JOMgsp/AUBMUYJmmHMIwIy9N56aGvI/4Ni3c34L9L/Y6ZTxv8T0P/hiuRnEH+a/zpagUrs/FkCwWUnWjsHnP4xMRA39Vfk/ZF69evXq5b/BK+oJ5HwIwOpUgDDDZvO/qPkq13uZ+T8kTurk6Xb3PwxJ3PGWBvy/iFbNQpF0JMBEI4ozVOf8PyClTzLYHNQ/JCAyRWMm5b/2Rpq9y20IQDgj8FyAI92/jPYd/123H8BgkKub9srPP6C7Zk7JSO4/CGrYtkVQ47/YF/QCna8CQNSE+V0t7g/AxIJroUjG/z+gxFULOGX1vwRXk0Rj+/M/YocxMNeJAkAYWchCFrLgP6ByaI1sNM+/rISHGQvCBUAgr8NErl//v2hjBHLB7uy/vflAAbbICcAELO0eKIDhv0m9fjrM+wjAgH1MpbMGyj8gpXko/KTFv9DJd6qtlBPAV5pGiodXA8D0KEwOAgwBQKgrtHkB8QBAWGTkmEXqA8DgDfTQ/5DLP2AXVfzIxtW/MP5eG7Eu7T97HvK9W/ISQADMz4Gqpt2/CDMEQNAn7z/I8ttOGo8BwNF7M7N14QDAIfck9T+YCMCOTRyqTfkRQL4/GkEpAfi/gI2IXswikr+vqUv291ASQMjQxqRgk/u/nGtGWv2l8z8MidXkmH0CQNhr6SEE1+G/+JC/P6Bp879Qm7zNCHsFwCZG+iA4SQpAqpK8nvQCBkD4XFdfY6Pqvzg4zWrhPuS/+NNouN/E6D94V+Q8EMDbv8w30qdeY/+/QI1cbVXIzT8w43/UIRnSP3hyA5xTh+O/wC7VEa2d0T/gFPmsG8z4v7zn3LtsMuC/SKEFJtGO7D+QQqC3uwziP7I6gZTaBwFAWEjQf2C047/4Ic7CUd3rP46sX83Cf/m/AHDtmVFGcT8AE2HbIUaxP4Bq5Y0eDaw/MBMxLbW2wL+cF3f7jV/5v/rw9CdxmfW/svUcfDg7CcA48lBbMJn0PwAqmDmyvp8/fDlLCaT15b+wDU0xbfnRP/CcmCLgD9M/xkHOj09u878sRqLd6iIEQCBbnWMFX88/4Dm/+gXxu78A0UUXXXTZP4Basa8RF74/UNlXQhTW8D+wfXri5mTfP0ReeeC1ePY/6eEwayLIF0BgOQbPX6nkv4CQHslUuru/sBt8+J5F/L9gAFdjnGXPP+RY3B7UkuC/6GIxY0IB9D8y/TGrAW3xv6705qxq0vi/CKsfW/V37j/AfImG39LUP96DSBSaTQhAkGTe/Hg+6b/4Kn09x9wJQJq9HIkstAJA9F98caYQ+7+conkA+Nvzv+Dcwcq/Tdc/YHRAFVhm/D9T3CnmYOUQQBD+XG1g8vC/xJrkGHjF8L/wHnap8ob7P3zEQNtYb+K/K3Q3qC9EF0CoAI8mVRwHQKBkrpTfOBhAilna40U3GMAqvdkYeSX5vwzgpXMnJeK/EB11NMmpBcAgCXe+bsLfP7Zd6XTvKfq/UE1CmGEI3r94xdIhAWf/P3KuMwDZEPK/8NDnUTkg4D8wHaxl0wLbv6QFRHWvuBFAYNT+dgamwj98jv9S6Bz2P0B4juPjVdQ/oOcdFc2n0T8iufgWOk36v/BmGgvoqeS/XNuPpngS8b8YcBYR1CTxv/DRRRdd9NY/4BFNdGVA378glhGcRbP2P+oNrqCFvPK/Yqo+ZTu78r+gEXhDQfnWP9jw4N8tlRrAHC+QSfEC+T/QZA3Xi3TNv8zI9sdS6AFA7OMtT4u697/0v0klNKHrv6BfSi1YY+M/yFbqID3f+L+23vWgyZjyv7Ai230hPsq/sqZbEgEuMsDNBSiz748dQIozY6QjmQ5AOpF7YEbm8r9YttAHyv7tvwS9dAqt1e6/Ki3EUxb6HsCyH9xelBwVQKgPktzKd/4/IGRN01AK3r+KeYvS8pgHQORaYagbZ+a/8DJzjudo3L/4w/T8Wy/iP2hzE8r4++q/oCIkzapF4D/YL2voI0/tv4BVta5I+fU/AI30mGBlAEDSUVmkOGgAQABc2Df7E3E/5Dl/cBQV+T8swxy3V90BwGBYYusNqcA/4NgI5THf5T/8txriW0IAwFtYeWZoDQDAgNKYwAbgrD+wLSIVht7Cv2RyAx8X0OC/8N1AD0cd1D/QwdlUMwD2PzRiBRYsVOS/QP2EXvH2vr9IbiDfyIL8v0iF4roG3/g/sEw7U/Hewr/Af5Mnfof9PwBm2Q9kpdA/iCQxCzbG1b84Rqc4U5PlvwxmXU+c7QVAmifAzV5k8L9IBpLX8QjRv3g7m9HAMuQ/QLLJD/UEvL8QE9+rVWvjP/DLTkw0M8m/8Hci3Bx57D+eVFlqRecCQKYGUZa4F/S/YBSj+vSl0b9oAdeb64blP0BwEgvZf9o/gMeXFeGQ6z/Ilirytonmv/xM6ETXZPs/AG6EU2zO7z9AbXxYppbtP2CB8Rsv5QpAGH8mIYylB0An07bwhZoKwDjcRePVA+Y/4oTv4/xHAkAeB23WC/HyvzAj6OXdSAdAQIhQoh327D+ce+3nE839P+AIRvtnEOc/6B7ILixG4j/CHBMPeM4HQPJWP0mOfQ1AAoDEKyxECEAIUeSklAgSQPKJLhWm4BDAKte8wSCsDEDg/DWvIfolQGK8qaxBYidAOGIeMlkkAEDx56U0fIAYwC8oXvp1mQjAYs9KN1ioCUDwQ8ISIiMLwFSPvWmShv0/RllSbPfYJsAYTFs6eZEewFCvcuRkZyFAWAunCUN/2r8qYBeXtz7yv44Hp9VonQ7AGEBGzppvCkDcT6k/pf70P4D6wMRuGcO/gcMkWQ8uBMDiEKO/t0L0v/Q4tEVgZfg/mDQPArVk57/YHYuaFGLdv6xOwrh9t+2/pudgiZVlBEDMJSzUhtIdQAzl7LEQUfg/QO5hYFqYx7/U9onqQSMPQHA8+iMu/Pk/atN5z1txD8D4W5wkwCHtv3hhY/gTkuA/0Mwkatbg4j+vsYtl82EcQECNs5DRYKa/iOveLwPS+z+aqRPR6D4UQGC89GRDzd4/uBSfD2Xh379r6sg4AI0hQJplfu98/A3A6EAmxQtk0r8wfJGqpDwDQEbeqEaOCRNAwx4I/+vcAcCAJC/upS3QP6gWnHyVc/o/sPxGdBvy0b8ruHZY4fsQwGiidXKLRu2/SDVVXdMz3r/8EuoC1131P6AxjTdIxAZAAKLw0EORwj+Uwd26pNggwDSY3rr7R/U/cMiTBO5YwL9ujo9gWkUEQAC0zNGSgPe/GPoOYNSg7T+YjXwbwfHrP7C7tHiZOsq/QIBq9a9S6b+gm6Emn+vmPxgI8fPXstC/xBQe5fEc5b81uOJTDfoaQF4EUsEq1vC/ShqgNf7W87/AQsdWs7u1P0AyIxG3JLk/dr8MVWq6BsAU7PUiYmLov8hMbRQOft6/WkWhRJCqLsBtnW0QfnsZQOw1sv9GovW/QI+NIsRh9D+oNBXtsAL9vwe65C0fFiVAB+wLreb6AsAqy2jTVBMbwOg06Gpj6vQ/GHaNDKT1D0DkC9EGd1AGwABUNdONcrs/gCIOZfgC5z/1okIf4bsNwPDjIemYmcu/2OsZGnmT1L+IFdn12wwEwMzoiX78nPI/IFk4bpXY1z/Eropnazrzv38VnsE8PBVAoJalcEf46L+jVg51C8IEwAAtZkRJMps/9Okn+C7v6r+g6ckRfRvmP9RYuW256fc/HEA5RfDE4L8kjTb+rG3zPxRtPXYupf8/Fqvt4uhgD0Bu2V6w+Kj7v2SwsaWmL/0/Vh7kbdxVAUAstlonWED3P0AgXo7r8Ne/eoC2blYfD0AgvW2jbwLYP4CrC14Foc6/FLpRlxMWD8A4vw/6hwLwP2Cn4VQKs7i/mLMPPjKu/D9AUdG3Fuu1P+DwTGaLAM0/KIimxOIA7z/UGeRku9ziv3GHfSucdgTAZI3EySmp4b8snvW19lEEwCG47rgXMATAKG5txfSE/D8omQdCpPD5P4B+0DI0oLW/AJeSyNaEyz9ooqT8b4LhPwDUQueuffE/AJ+5EKUaA8D4VRc8DfjiP1DLjWu6ZOI/gFLNJoL5tz+Abvx1FxymP2AFRoq0s+s/yyRQePwNBcCgN/SG3tDLP8g555xzzuk/wEzTJmM5u79se3bdF4HyPwBN/ZwJfoi/wGJZ5b9C2b9gQnbb8EjIP+Abi1uHUcc/3ABflf/hAEC0yEaiifjiv0wNnOQcFP2/MGL/nAYf2r+AciMo3HfdP2Cxil7S49I/iGaKv5ZH5j8AKEyTWDJ9PyDV6hsFbMA/6Myz53iq4z/QLpRKNbfCv8BoVWrJ88O/QPo+ILEq4r9AEWUfr5/Mv2gqqUlsZ+A/4JtB2TDvyz+gz7wpw4bkP3CQ6Ove+dW/QPcHRUadwD/sejOFH3r0P0Bfq9kFnsk//PcmRjmP57+APANtwtHRP1xPo1lj1fk/5JBgrC2a9T+kL1F28CT9P8jW/KT1Req//EmnJOdL8D/kfWAV9Gv9P3g+SVYlB+Q/1IIsF5Eo8D8jkh/MlF0SwGB34iE6Fu8/0Plysnmz9T/eOHAjJtb3v0hX6VsRaek/GvhXFmaH+b/sxc/i+UH0P/wO72XZcOm/UOaJFDQN0j+mjxa2PMAEQJDtuGp1hc2/AODYx4rdYT9gGYDB5O/aP99Y0yQvqQDAEMCZGQMe2j9gYpkaoNbcPwDEWEjcVMk/AAAAAAAAAADAsfpPnK/aP8AvEQAE2ee/gI6fpnVrtb8Ab0G5vbHHP2j+zPI7/wvAALhU9ib17D8A+HX8On69P4DzoNhf8eu/eLNTH0CX8T9wAjOSlV7aP0hJmQhp+ek/wKJV8mbn6j8ssFAzQLcRQIIuncGQ5idAZFn0iIUA57+sbX9y8DL3P8Da9blanN2/YMPuXZKm8D/AL24BGwjJPxKQKKSTNhdAIEuYPefm4z8ApHNwiiTZP4ClfJqnYv0/0Hv0aMFt+L84NLqFivjrPwR3AkSNSPO/4OwJW3uh3z+CPnhEiUQUQHKhh2+/xSVAq40wzKfJEkDcdz6a9F8FwIiN7BFwy/Q/EBlYs2ywJEDonZehOyoCwPAiz2QHR+8/0GE1Aa3y7z9XxuA5Hs8LwFZ3pqe4JSPAaDBL5NYoJcAf0C2TuLESQCy+7W7vfBpAgJ4Wb220m7/ObA0e+H8VwPLqm+T9dRBALKYjvXUx9L/ePtcgK5Xxv5yPSofr6BRAkLvXZGYi3D/AczAAsTQQQK4tos4QmhnAdKHZp1tdDkAyfb0GpH7+vwg7UedN+O8/GOWW3PS2FcDdWcoB+DUQQAexb3YVrQLAcHON8BJ2z7/gJKn5RMHQvy4p0Vrg3ARAIrk4veBE+L+I96TuoqbhPygCZ/nJI+k/MMewuD7u17+aYkwszqAGQMh4Xkv25+2/QG7tOiYEo79ibxOSyRLxv+D2jlkhxLm/+Z8k3p5PAcDAWuGx/EvoP1h3oJPR6+s/cNbFjlNf8b+QgL8vLLPWv8DD609KPNk/wEwW9H6auj8QpXb1dybTP3AsXZP35dK/a+NN5o6LEsC7MGHXrZMHwH54R1a1ZSPASB+nbHSaC0D6mhUb+tkAQBT3fB/r++G/Lir4Cle5AUDoZ460KLvqP1AYd9yGtdG/lKOznYaY4b/oebBiyWjnP7wzlq76GuC/GKRb/YLy0L9wOa7TTnXVv3xyAYv1pwTA7LMWC08e4r/AXZUWWcX8P/z6Xo3PYue/QIbmcCCQyD/g2P+LPjLNP7hdoQw43/A/oEqGPdopsb+YATBJN/LtPzBCaTExN+K/aN6DbG634b9oNF499rHavyDsX5Wf79Q/tgfm11fG+r9oRMmSyDvmP4Dk7VCv16E/CEj8lTTl4j8wlvNnOX/Wvyi8t76YoOG/mJ0al8od4j/0hAkC44IPQKSGK/mr3vs/mKANqJJz1b9wEhIibU/kPyjrNi4hfuU/7B+bU4ur/j/kfKCEiK3hv0DSL0opt7o/M+ulC+WKBcCgBYcvpAjQP6DNiNtYC8U/QPd52QtBzj9sEqZwVn/iv4BqMwi1W56/wKzyF6LgxL9gOYMPvIrkP+AOuLVf3bq/INMPJE5Uw7+wfQ8BfFr9v0DKjOhJOMK/CCZ2wFeM8T9AXAB16NWhv9j/08K/HdO/OCxMLjoz8z+Y3n2O067Tv1ASr5BFaM6/IK56Nd9RxD/whltRp2XlP8AJPR2KQOY/lOVCftEa4L8Af+jnVPvJP8gDgpvALdS/UPrYMmY62D+AWQ84yVC1P4hFfBP5ZuU/EJHa80aj1D/4CnSgdGXYvzA9/rqSPtc/mDW6YGyJDEDo7Sxn+Vvov8AmGojLJLg/sA7qLV0K4j9gwJgFLErRvxBYXw/t3N0/CDjoF4hW2L9wRaublKHIv17ReH3TqPK/ANGgpuSbqz/A8F9FRPzTP8RqjPPh6w5AwEeBjRQjob+wU8Z4ux7gv5CvsYI3v+I/0Kkbgu0xCUDkxGYjqpz3P4AHT+FD68g/dFFDdZLNDEDO79FM2EL8vyDKdB4tO8C/KEF8yR5yEEDA9Jv3RzT4P+SBuDqVJRzAFNWobsnjAEAADWH6yTWaP+zpWfWcbPI/WGFa4tzd8r/YW5LRT5XuPyzObiOnP/4/bFZR5Eof8b/AbPSj/nu/P/ycqF72Xvm/IIDHh+Vp279wHjh5EkLbP0BBF4rj9O0/OtGHPypQEkBYQHziBLHbv2ABGN4C6fY/AFSUTm5ZcD/CDKcJU+oFwKSBTrK1/fE/dKWo9E4w+j/UNlWydMrsv+Ad7zzfeuK/wHYDLt6Dxz/omiMBng3rv0AJgbutJ92/CAvNKB+G4D+AdkBklTmdv0TM/Jhb8vU/sPbe3iHG9z/C7/1JG2EGQAgykusf7uu/cKIswfaS1j86zVACTF3/v3BsEoosSOc/8PkBs0tf4D9gb8ifXVTWP4BUg/GZcNA/4CCmZM/Ozj+I0zLM8lLkv1iRFDjqiPU/gNPSWgTZrj+AnHBsVyy+P7CHXb5Aw9u/AKmo0VQM7D94oi7SnyLoP4Cm+5oxbKO/IKeQjx+m0T8wGs4sgn3wP68DY6CArhBA8H05VEIEDUDp8oyYc5MaQKvfnaGLGATAANqpY0jM0r94bV3nF2j0P3qeZlJSjgZAogDC+KlPEkCg4HC7hL3Pv25YjbdkJvS/wANopCml0D/aUfI8kLYMQACXbH1wxAJAXgr2mLpLAUBg1Kn6HT8lQKLOO69eeyjARkRO0UHxJcDgjlQSI6rmP6CXyYxwYtI/cC/fpepk7b/4U81pvTDhP/ru0Np3oCzAYp/xpBTYC0DkbRq5+ggDQECnLhSwoeW/cA+fbYuC2j9cyH+xm/HyP29a08XPYCJAB4Vj0A7JAsD4GcIcpHf2P5BdpwI0wty/lKN1STPrB0DAsV7V8f7TP7hsK1kQVdm/LS3GZl2ZCMCQ/3BEbrnvP7xz7kkOfPw/QPZBDZAhzj/AM2SgYZvJP5BJLhYxB82/gFCB0RGAuD9jEa0TJb0VQLAOQtNjs/4/znyUXyNtAkAoGAybWKP8PwRRxfYuLvQ/buITjjTf97+gasIy8dXwP7zKGrnB4AFAQGJl/k6+xD9uBpvYjNgZwIAVRaERYOK/JKtc/I6J+T+oObnBDsrgv4C1WZu1Weu/qPJ3al539j9wJyjDxKrSPziF1prqsv8/PIALvdw6/T+ImnlgkRzpP2DMRXrT4OO/FJmxs7WDCEBQoYex1ykKQAC+4sppj8g/MaI/D+yjEUAoyyTG4xbjPybc1eDlVgTAcAL2ktjg/T905JYrEEj0PwAAAAAAAAAAYq8XZ6rVDEAkfFZeJ6gCQHT4uSVsq/4/Pg10S7/l+L8Y6vDIeITuP6AlXKUX19w/6TX8M9P6DsAeM/bVrQoYwCAHECSRxgpALtD6Z68nGMCVC5NiNywVQAjeCfSp/Q5A8KrStVqd6z/4oW8zBv3kP4jMzMzMzOg/v6k5bTzIE8A+Ct7QMH4dwJS/1raU+ibAtrX2fDjYGUCYi1WOB/76P5RIYjrbKBlA81aGpdp8GcAQDIrZ4Bbwv0KNakyCdiPAFBD7DYAWDkCoGFBy1+bjv7AJuMYeWiBAADn/PRLkwD/Q2FqIA/Hlv2yaV6zU1PS/kCFb50KtEUBYkNzbTQHqP+Z1/lxfCwBAiidG5Fg5DkCYn/AtGovtv9xIpPfD6ue/b2HvrDeXFECQ7o58Mkffv+A3jOIZqrS/xC/rh+c38D9A7O6eT+Wvv+g0kmg0Gfg/II59sc6k2L/K/SUiZLgEwLAwDMMwDMO/AGHJZ2VM2z8o+MPZGXDsPyghd/TarO0/CAUYggDN9z9gF/5VDSi9v6D6ZLQf1/g/FB8OV5lN4r+gArJFkkvpP8pDelJf0/+/tvyLc6h0DECUo3cRAqLzP/ztm0sAtvM/KLudcQ7jBkBASZZkwEi4vzCx1Ht10Nk/jCZ2/PCX/z+s8BHSyt8VQGoTCdGlkQFAqOFGL9mFBECejrLEdYsJQBQ9cBgvgPI//AGvSc4E+D8gSh7HhibyP2IvfQCpuR9ABIf9Tge4/T/odQUiSvX8P1p7tEbZgAtA9nuxNyjnGsDtiiF43rYSQIAMZv/3Xcw/WhwQGI8rD8CwPb1s+k3Nv1/95EvUIRhAoFmVFPmOBUC9nk+M5foUQOeY0jYjhhNAJ06laE60AMBMfaI3BegZQNaT2WTdDhtAZ20GA7E9FUCE4JBxgbIWwB4HmsJIzBHAwE4LACW0HcDkY1IyrvAWQAPTfqzzhBJA3hY64mBsDMCjHMJP+mUUQMmeUDwzQBVAwHvn4E/NCkB4Un9qHTvxP3DHmySiA8K/g2oWLkzeG0Dw0MxemEIaQIasfMOJThLAKHpyF32CBUDAoIDDNr/kP7c7l1b+jBFAIAoUoIqU1j9iQPUrMi4kwIjLMpQ2QwFAoArxBQ0DH8Dg1uDbeK36v36G3e6XhQFAaAQEfS3PFUDzHCNRPDQQwDRpDQL57/k/eg0eNClrFEB8wZDwfTfzv3DTpiSiaOM/ON/XQlBc9z8s63HHn9gTwPgW31/Mr+e/mTKgUv0jEcBOerYbyuIHQNCN6RvyAew/9KUhy5kK9r9wgXwfgGwCwHaOCDu62v2/GixC0hOiB0BgXqA/mGECQCDJ+XdHc/c/AJSsKkaNiz9g2zjF8SjQPztod8kdkgvA8hTasJK7AEBfE6MTVnUAwKxnTn1+KxfAErvQA7Zy97/K2jIIO+QEQLawBdl4Tvu/tvd6ZnMhFcB6RaSDhv8kwP0+2F+6oQvAbBjDA+LxLkDJQyoaSD0QQJypG8omXP+/9YD63qLvN0AeAfgWokUVwFy9yTNiWBVAh9IDI/OxBsAwZcl3t6rsP5LZyS+B5hnAhIfkP6s0/b89xZT99YEWQNsMVPyLixRAzeLsFU6DB8C0htkCoQjyPwTkAxtkJBFA",
          "dtype": "f8"
         }
        }
       ],
       "layout": {
        "height": 600,
        "template": {
         "data": {
          "bar": [
           {
            "error_x": {
             "color": "#2a3f5f"
            },
            "error_y": {
             "color": "#2a3f5f"
            },
            "marker": {
             "line": {
              "color": "white",
              "width": 0.5
             },
             "pattern": {
              "fillmode": "overlay",
              "size": 10,
              "solidity": 0.2
             }
            },
            "type": "bar"
           }
          ],
          "barpolar": [
           {
            "marker": {
             "line": {
              "color": "white",
              "width": 0.5
             },
             "pattern": {
              "fillmode": "overlay",
              "size": 10,
              "solidity": 0.2
             }
            },
            "type": "barpolar"
           }
          ],
          "carpet": [
           {
            "aaxis": {
             "endlinecolor": "#2a3f5f",
             "gridcolor": "#C8D4E3",
             "linecolor": "#C8D4E3",
             "minorgridcolor": "#C8D4E3",
             "startlinecolor": "#2a3f5f"
            },
            "baxis": {
             "endlinecolor": "#2a3f5f",
             "gridcolor": "#C8D4E3",
             "linecolor": "#C8D4E3",
             "minorgridcolor": "#C8D4E3",
             "startlinecolor": "#2a3f5f"
            },
            "type": "carpet"
           }
          ],
          "choropleth": [
           {
            "colorbar": {
             "outlinewidth": 0,
             "ticks": ""
            },
            "type": "choropleth"
           }
          ],
          "contour": [
           {
            "colorbar": {
             "outlinewidth": 0,
             "ticks": ""
            },
            "colorscale": [
             [
              0,
              "#0d0887"
             ],
             [
              0.1111111111111111,
              "#46039f"
             ],
             [
              0.2222222222222222,
              "#7201a8"
             ],
             [
              0.3333333333333333,
              "#9c179e"
             ],
             [
              0.4444444444444444,
              "#bd3786"
             ],
             [
              0.5555555555555556,
              "#d8576b"
             ],
             [
              0.6666666666666666,
              "#ed7953"
             ],
             [
              0.7777777777777778,
              "#fb9f3a"
             ],
             [
              0.8888888888888888,
              "#fdca26"
             ],
             [
              1,
              "#f0f921"
             ]
            ],
            "type": "contour"
           }
          ],
          "contourcarpet": [
           {
            "colorbar": {
             "outlinewidth": 0,
             "ticks": ""
            },
            "type": "contourcarpet"
           }
          ],
          "heatmap": [
           {
            "colorbar": {
             "outlinewidth": 0,
             "ticks": ""
            },
            "colorscale": [
             [
              0,
              "#0d0887"
             ],
             [
              0.1111111111111111,
              "#46039f"
             ],
             [
              0.2222222222222222,
              "#7201a8"
             ],
             [
              0.3333333333333333,
              "#9c179e"
             ],
             [
              0.4444444444444444,
              "#bd3786"
             ],
             [
              0.5555555555555556,
              "#d8576b"
             ],
             [
              0.6666666666666666,
              "#ed7953"
             ],
             [
              0.7777777777777778,
              "#fb9f3a"
             ],
             [
              0.8888888888888888,
              "#fdca26"
             ],
             [
              1,
              "#f0f921"
             ]
            ],
            "type": "heatmap"
           }
          ],
          "histogram": [
           {
            "marker": {
             "pattern": {
              "fillmode": "overlay",
              "size": 10,
              "solidity": 0.2
             }
            },
            "type": "histogram"
           }
          ],
          "histogram2d": [
           {
            "colorbar": {
             "outlinewidth": 0,
             "ticks": ""
            },
            "colorscale": [
             [
              0,
              "#0d0887"
             ],
             [
              0.1111111111111111,
              "#46039f"
             ],
             [
              0.2222222222222222,
              "#7201a8"
             ],
             [
              0.3333333333333333,
              "#9c179e"
             ],
             [
              0.4444444444444444,
              "#bd3786"
             ],
             [
              0.5555555555555556,
              "#d8576b"
             ],
             [
              0.6666666666666666,
              "#ed7953"
             ],
             [
              0.7777777777777778,
              "#fb9f3a"
             ],
             [
              0.8888888888888888,
              "#fdca26"
             ],
             [
              1,
              "#f0f921"
             ]
            ],
            "type": "histogram2d"
           }
          ],
          "histogram2dcontour": [
           {
            "colorbar": {
             "outlinewidth": 0,
             "ticks": ""
            },
            "colorscale": [
             [
              0,
              "#0d0887"
             ],
             [
              0.1111111111111111,
              "#46039f"
             ],
             [
              0.2222222222222222,
              "#7201a8"
             ],
             [
              0.3333333333333333,
              "#9c179e"
             ],
             [
              0.4444444444444444,
              "#bd3786"
             ],
             [
              0.5555555555555556,
              "#d8576b"
             ],
             [
              0.6666666666666666,
              "#ed7953"
             ],
             [
              0.7777777777777778,
              "#fb9f3a"
             ],
             [
              0.8888888888888888,
              "#fdca26"
             ],
             [
              1,
              "#f0f921"
             ]
            ],
            "type": "histogram2dcontour"
           }
          ],
          "mesh3d": [
           {
            "colorbar": {
             "outlinewidth": 0,
             "ticks": ""
            },
            "type": "mesh3d"
           }
          ],
          "parcoords": [
           {
            "line": {
             "colorbar": {
              "outlinewidth": 0,
              "ticks": ""
             }
            },
            "type": "parcoords"
           }
          ],
          "pie": [
           {
            "automargin": true,
            "type": "pie"
           }
          ],
          "scatter": [
           {
            "fillpattern": {
             "fillmode": "overlay",
             "size": 10,
             "solidity": 0.2
            },
            "type": "scatter"
           }
          ],
          "scatter3d": [
           {
            "line": {
             "colorbar": {
              "outlinewidth": 0,
              "ticks": ""
             }
            },
            "marker": {
             "colorbar": {
              "outlinewidth": 0,
              "ticks": ""
             }
            },
            "type": "scatter3d"
           }
          ],
          "scattercarpet": [
           {
            "marker": {
             "colorbar": {
              "outlinewidth": 0,
              "ticks": ""
             }
            },
            "type": "scattercarpet"
           }
          ],
          "scattergeo": [
           {
            "marker": {
             "colorbar": {
              "outlinewidth": 0,
              "ticks": ""
             }
            },
            "type": "scattergeo"
           }
          ],
          "scattergl": [
           {
            "marker": {
             "colorbar": {
              "outlinewidth": 0,
              "ticks": ""
             }
            },
            "type": "scattergl"
           }
          ],
          "scattermap": [
           {
            "marker": {
             "colorbar": {
              "outlinewidth": 0,
              "ticks": ""
             }
            },
            "type": "scattermap"
           }
          ],
          "scattermapbox": [
           {
            "marker": {
             "colorbar": {
              "outlinewidth": 0,
              "ticks": ""
             }
            },
            "type": "scattermapbox"
           }
          ],
          "scatterpolar": [
           {
            "marker": {
             "colorbar": {
              "outlinewidth": 0,
              "ticks": ""
             }
            },
            "type": "scatterpolar"
           }
          ],
          "scatterpolargl": [
           {
            "marker": {
             "colorbar": {
              "outlinewidth": 0,
              "ticks": ""
             }
            },
            "type": "scatterpolargl"
           }
          ],
          "scatterternary": [
           {
            "marker": {
             "colorbar": {
              "outlinewidth": 0,
              "ticks": ""
             }
            },
            "type": "scatterternary"
           }
          ],
          "surface": [
           {
            "colorbar": {
             "outlinewidth": 0,
             "ticks": ""
            },
            "colorscale": [
             [
              0,
              "#0d0887"
             ],
             [
              0.1111111111111111,
              "#46039f"
             ],
             [
              0.2222222222222222,
              "#7201a8"
             ],
             [
              0.3333333333333333,
              "#9c179e"
             ],
             [
              0.4444444444444444,
              "#bd3786"
             ],
             [
              0.5555555555555556,
              "#d8576b"
             ],
             [
              0.6666666666666666,
              "#ed7953"
             ],
             [
              0.7777777777777778,
              "#fb9f3a"
             ],
             [
              0.8888888888888888,
              "#fdca26"
             ],
             [
              1,
              "#f0f921"
             ]
            ],
            "type": "surface"
           }
          ],
          "table": [
           {
            "cells": {
             "fill": {
              "color": "#EBF0F8"
             },
             "line": {
              "color": "white"
             }
            },
            "header": {
             "fill": {
              "color": "#C8D4E3"
             },
             "line": {
              "color": "white"
             }
            },
            "type": "table"
           }
          ]
         },
         "layout": {
          "annotationdefaults": {
           "arrowcolor": "#2a3f5f",
           "arrowhead": 0,
           "arrowwidth": 1
          },
          "autotypenumbers": "strict",
          "coloraxis": {
           "colorbar": {
            "outlinewidth": 0,
            "ticks": ""
           }
          },
          "colorscale": {
           "diverging": [
            [
             0,
             "#8e0152"
            ],
            [
             0.1,
             "#c51b7d"
            ],
            [
             0.2,
             "#de77ae"
            ],
            [
             0.3,
             "#f1b6da"
            ],
            [
             0.4,
             "#fde0ef"
            ],
            [
             0.5,
             "#f7f7f7"
            ],
            [
             0.6,
             "#e6f5d0"
            ],
            [
             0.7,
             "#b8e186"
            ],
            [
             0.8,
             "#7fbc41"
            ],
            [
             0.9,
             "#4d9221"
            ],
            [
             1,
             "#276419"
            ]
           ],
           "sequential": [
            [
             0,
             "#0d0887"
            ],
            [
             0.1111111111111111,
             "#46039f"
            ],
            [
             0.2222222222222222,
             "#7201a8"
            ],
            [
             0.3333333333333333,
             "#9c179e"
            ],
            [
             0.4444444444444444,
             "#bd3786"
            ],
            [
             0.5555555555555556,
             "#d8576b"
            ],
            [
             0.6666666666666666,
             "#ed7953"
            ],
            [
             0.7777777777777778,
             "#fb9f3a"
            ],
            [
             0.8888888888888888,
             "#fdca26"
            ],
            [
             1,
             "#f0f921"
            ]
           ],
           "sequentialminus": [
            [
             0,
             "#0d0887"
            ],
            [
             0.1111111111111111,
             "#46039f"
            ],
            [
             0.2222222222222222,
             "#7201a8"
            ],
            [
             0.3333333333333333,
             "#9c179e"
            ],
            [
             0.4444444444444444,
             "#bd3786"
            ],
            [
             0.5555555555555556,
             "#d8576b"
            ],
            [
             0.6666666666666666,
             "#ed7953"
            ],
            [
             0.7777777777777778,
             "#fb9f3a"
            ],
            [
             0.8888888888888888,
             "#fdca26"
            ],
            [
             1,
             "#f0f921"
            ]
           ]
          },
          "colorway": [
           "#636efa",
           "#EF553B",
           "#00cc96",
           "#ab63fa",
           "#FFA15A",
           "#19d3f3",
           "#FF6692",
           "#B6E880",
           "#FF97FF",
           "#FECB52"
          ],
          "font": {
           "color": "#2a3f5f"
          },
          "geo": {
           "bgcolor": "white",
           "lakecolor": "white",
           "landcolor": "white",
           "showlakes": true,
           "showland": true,
           "subunitcolor": "#C8D4E3"
          },
          "hoverlabel": {
           "align": "left"
          },
          "hovermode": "closest",
          "mapbox": {
           "style": "light"
          },
          "paper_bgcolor": "white",
          "plot_bgcolor": "white",
          "polar": {
           "angularaxis": {
            "gridcolor": "#EBF0F8",
            "linecolor": "#EBF0F8",
            "ticks": ""
           },
           "bgcolor": "white",
           "radialaxis": {
            "gridcolor": "#EBF0F8",
            "linecolor": "#EBF0F8",
            "ticks": ""
           }
          },
          "scene": {
           "xaxis": {
            "backgroundcolor": "white",
            "gridcolor": "#DFE8F3",
            "gridwidth": 2,
            "linecolor": "#EBF0F8",
            "showbackground": true,
            "ticks": "",
            "zerolinecolor": "#EBF0F8"
           },
           "yaxis": {
            "backgroundcolor": "white",
            "gridcolor": "#DFE8F3",
            "gridwidth": 2,
            "linecolor": "#EBF0F8",
            "showbackground": true,
            "ticks": "",
            "zerolinecolor": "#EBF0F8"
           },
           "zaxis": {
            "backgroundcolor": "white",
            "gridcolor": "#DFE8F3",
            "gridwidth": 2,
            "linecolor": "#EBF0F8",
            "showbackground": true,
            "ticks": "",
            "zerolinecolor": "#EBF0F8"
           }
          },
          "shapedefaults": {
           "line": {
            "color": "#2a3f5f"
           }
          },
          "ternary": {
           "aaxis": {
            "gridcolor": "#DFE8F3",
            "linecolor": "#A2B1C6",
            "ticks": ""
           },
           "baxis": {
            "gridcolor": "#DFE8F3",
            "linecolor": "#A2B1C6",
            "ticks": ""
           },
           "bgcolor": "white",
           "caxis": {
            "gridcolor": "#DFE8F3",
            "linecolor": "#A2B1C6",
            "ticks": ""
           }
          },
          "title": {
           "x": 0.05
          },
          "xaxis": {
           "automargin": true,
           "gridcolor": "#EBF0F8",
           "linecolor": "#EBF0F8",
           "ticks": "",
           "title": {
            "standoff": 15
           },
           "zerolinecolor": "#EBF0F8",
           "zerolinewidth": 2
          },
          "yaxis": {
           "automargin": true,
           "gridcolor": "#EBF0F8",
           "linecolor": "#EBF0F8",
           "ticks": "",
           "title": {
            "standoff": 15
           },
           "zerolinecolor": "#EBF0F8",
           "zerolinewidth": 2
          }
         }
        },
        "title": {
         "text": "Relationship Between Daily Trading Volume and Bitcoin Daily Returns<br><sub>Pearson=0.060, Spearman=0.138</sub>"
        },
        "width": 1000,
        "xaxis": {
         "title": {
          "text": "Logarithmic Scale of Daily Trading Volume (BTC)"
         }
        },
        "yaxis": {
         "title": {
          "text": "Daily Close-to-Close Returns (%)"
         }
        }
       }
      }
     },
     "metadata": {},
     "output_type": "display_data"
    }
   ],
   "source": [
    "df = pd.read_csv(r'D:\\Data Analyst stuffs\\Python stuffs\\Learn Python for Data Analysis\\PYTHON_EXERCISES_UDEMY\\Bitcoin Case Study\\bitcoin_price_Training - Training.csv')\n",
    "\n",
    "df['Date'] = pd.to_datetime(df['Date'])\n",
    "df = df.set_index('Date').sort_index()\n",
    "\n",
    "# Clean 'Volume' column:\n",
    "# Remove commas (thousand separators) → convert to numeric → replace missing values with zero\n",
    "df['Volume'] = pd.to_numeric(df['Volume'].str.replace(',', '', regex=False), errors='coerce')\n",
    "df['Volume'] = df['Volume'].fillna(0)\n",
    "\n",
    "# Focus analysis on 2014–2017 (exclude 2013 because the data for that year is incomplete)\n",
    "df_2014_2017 = df.loc[df.index.strftime('%Y') != '2013'].copy()\n",
    "\n",
    "# Compute daily close-to-close returns as percentage change\n",
    "df_2014_2017['Close_return'] = 100 * df_2014_2017['Close'].pct_change()\n",
    "\n",
    "# Calculate correlation between trading volume and daily returns\n",
    "pearson_val = (\n",
    "    df_2014_2017[['Volume', 'Close_return']]\n",
    "    .corr(method='pearson')\n",
    "    .loc['Volume', 'Close_return']\n",
    ")\n",
    "\n",
    "spearman_val = (\n",
    "    df_2014_2017[['Volume', 'Close_return']]\n",
    "    .corr(method='spearman')\n",
    "    .loc['Volume', 'Close_return']\n",
    ")\n",
    "\n",
    "# Create scatter plot: Volume (log scale) vs Daily Returns\n",
    "fig_scatter = go.Scatter(   \n",
    "    x=np.log10(df_2014_2017['Volume']), # log scale reduces skew in Volume data\n",
    "    y=df_2014_2017['Close_return'],\n",
    "    mode='markers',\n",
    "    marker=dict(size=6, color='blue', opacity=0.6)\n",
    ")\n",
    "\n",
    "# Build figure\n",
    "fig = go.Figure(fig_scatter)\n",
    "\n",
    "# Customize layout\n",
    "fig.update_layout(\n",
    "    height=600,\n",
    "    width=1000,\n",
    "    title=f'Relationship Between Daily Trading Volume and Bitcoin Daily Returns<br><sub>Pearson={pearson_val:.3f}, Spearman={spearman_val:.3f}</sub>',\n",
    "    xaxis_title='Logarithmic Scale of Daily Trading Volume (BTC)',\n",
    "    yaxis_title='Daily Close-to-Close Returns (%)',\n",
    "    template='plotly_white'\n",
    ")\n",
    "\n",
    "fig.show()"
   ]
  },
  {
   "cell_type": "code",
   "execution_count": 3,
   "id": "5055e0bd",
   "metadata": {},
   "outputs": [
    {
     "data": {
      "image/png": "[encoded data removed]",
      "text/plain": [
       "<IPython.core.display.Image object>"
      ]
     },
     "execution_count": 3,
     "metadata": {},
     "output_type": "execute_result"
    }
   ],
   "source": [
    "# Display the saved plot as a static image as Plotly interactive charts cannot be rendered directly on GitHub\n",
    "\n",
    "from IPython.display import Image\n",
    "\n",
    "Image(\n",
    "    filename=r'D:\\Data Analyst stuffs\\Python stuffs\\Learn Python for Data Analysis\\PYTHON_EXERCISES_UDEMY\\Bitcoin Case Study\\Own_Exercises\\Return_Volume_Correlation_Analysis.png'\n",
    ") "
   ]
  }
 ],
 "metadata": {
  "kernelspec": {
   "display_name": "python_course_2",
   "language": "python",
   "name": "python3"
  },
  "language_info": {
   "codemirror_mode": {
    "name": "ipython",
    "version": 3
   },
   "file_extension": ".py",
   "mimetype": "text/x-python",
   "name": "python",
   "nbconvert_exporter": "python",
   "pygments_lexer": "ipython3",
   "version": "3.13.5"
  }
 },
 "nbformat": 4,
 "nbformat_minor": 5
}
