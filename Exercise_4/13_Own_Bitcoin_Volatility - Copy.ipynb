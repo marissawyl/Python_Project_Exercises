{
 "cells": [
  {
   "cell_type": "code",
   "execution_count": 1,
   "id": "74349c29",
   "metadata": {},
   "outputs": [],
   "source": [
    "import pandas as pd\n",
    "import plotly.graph_objects as go\n",
    "import numpy as np\n",
    "from plotly.subplots import make_subplots"
   ]
  },
  {
   "cell_type": "code",
   "execution_count": 2,
   "id": "a7a8b4e4",
   "metadata": {},
   "outputs": [],
   "source": [
    "df = pd.read_csv(r'D:\\Data Analyst stuffs\\Python stuffs\\Learn Python for Data Analysis\\PYTHON_EXERCISES_UDEMY\\Bitcoin Case Study\\bitcoin_price_Training - Training.csv')\n",
    "\n",
    "df['Date'] = pd.to_datetime(df['Date'])\n",
    "df = df.set_index('Date').sort_index()"
   ]
  },
  {
   "cell_type": "code",
   "execution_count": 6,
   "id": "bcb9e4b1",
   "metadata": {},
   "outputs": [
    {
     "data": {
      "application/vnd.plotly.v1+json": {
       "config": {
        "plotlyServerURL": "https://plot.ly"
       },
       "data": [
        {
         "marker": {
          "line": {
           "color": "black",
           "width": 1
          }
         },
         "name": "Daily Return Distribution",
         "nbinsx": 100,
         "type": "histogram",
         "x": {
          "bdata": "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",
          "dtype": "f8"
         },
         "xaxis": "x",
         "yaxis": "y"
        },
        {
         "boxmean": "sd",
         "type": "box",
         "x": [
          "2013",
          "2013",
          "2013",
          "2013",
          "2013",
          "2013",
          "2013",
          "2013",
          "2013",
          "2013",
          "2013",
          "2013",
          "2013",
          "2013",
          "2013",
          "2013",
          "2013",
          "2013",
          "2013",
          "2013",
          "2013",
          "2013",
          "2013",
          "2013",
          "2013",
          "2013",
          "2013",
          "2013",
          "2013",
          "2013",
          "2013",
          "2013",
          "2013",
          "2013",
          "2013",
          "2013",
          "2013",
          "2013",
          "2013",
          "2013",
          "2013",
          "2013",
          "2013",
          "2013",
          "2013",
          "2013",
          "2013",
          "2013",
          "2013",
          "2013",
          "2013",
          "2013",
          "2013",
          "2013",
          "2013",
          "2013",
          "2013",
          "2013",
          "2013",
          "2013",
          "2013",
          "2013",
          "2013",
          "2013",
          "2013",
          "2013",
          "2013",
          "2013",
          "2013",
          "2013",
          "2013",
          "2013",
          "2013",
          "2013",
          "2013",
          "2013",
          "2013",
          "2013",
          "2013",
          "2013",
          "2013",
          "2013",
          "2013",
          "2013",
          "2013",
          "2013",
          "2013",
          "2013",
          "2013",
          "2013",
          "2013",
          "2013",
          "2013",
          "2013",
          "2013",
          "2013",
          "2013",
          "2013",
          "2013",
          "2013",
          "2013",
          "2013",
          "2013",
          "2013",
          "2013",
          "2013",
          "2013",
          "2013",
          "2013",
          "2013",
          "2013",
          "2013",
          "2013",
          "2013",
          "2013",
          "2013",
          "2013",
          "2013",
          "2013",
          "2013",
          "2013",
          "2013",
          "2013",
          "2013",
          "2013",
          "2013",
          "2013",
          "2013",
          "2013",
          "2013",
          "2013",
          "2013",
          "2013",
          "2013",
          "2013",
          "2013",
          "2013",
          "2013",
          "2013",
          "2013",
          "2013",
          "2013",
          "2013",
          "2013",
          "2013",
          "2013",
          "2013",
          "2013",
          "2013",
          "2013",
          "2013",
          "2013",
          "2013",
          "2013",
          "2013",
          "2013",
          "2013",
          "2013",
          "2013",
          "2013",
          "2013",
          "2013",
          "2013",
          "2013",
          "2013",
          "2013",
          "2013",
          "2013",
          "2013",
          "2013",
          "2013",
          "2013",
          "2013",
          "2013",
          "2013",
          "2013",
          "2013",
          "2013",
          "2013",
          "2013",
          "2013",
          "2013",
          "2013",
          "2013",
          "2013",
          "2013",
          "2013",
          "2013",
          "2013",
          "2013",
          "2013",
          "2013",
          "2013",
          "2013",
          "2013",
          "2013",
          "2013",
          "2013",
          "2013",
          "2013",
          "2013",
          "2013",
          "2013",
          "2013",
          "2013",
          "2013",
          "2013",
          "2013",
          "2013",
          "2013",
          "2013",
          "2013",
          "2013",
          "2013",
          "2013",
          "2013",
          "2013",
          "2013",
          "2013",
          "2013",
          "2013",
          "2013",
          "2013",
          "2013",
          "2013",
          "2013",
          "2013",
          "2013",
          "2013",
          "2013",
          "2013",
          "2013",
          "2013",
          "2013",
          "2013",
          "2013",
          "2013",
          "2013",
          "2013",
          "2013",
          "2013",
          "2013",
          "2013",
          "2013",
          "2014",
          "2014",
          "2014",
          "2014",
          "2014",
          "2014",
          "2014",
          "2014",
          "2014",
          "2014",
          "2014",
          "2014",
          "2014",
          "2014",
          "2014",
          "2014",
          "2014",
          "2014",
          "2014",
          "2014",
          "2014",
          "2014",
          "2014",
          "2014",
          "2014",
          "2014",
          "2014",
          "2014",
          "2014",
          "2014",
          "2014",
          "2014",
          "2014",
          "2014",
          "2014",
          "2014",
          "2014",
          "2014",
          "2014",
          "2014",
          "2014",
          "2014",
          "2014",
          "2014",
          "2014",
          "2014",
          "2014",
          "2014",
          "2014",
          "2014",
          "2014",
          "2014",
          "2014",
          "2014",
          "2014",
          "2014",
          "2014",
          "2014",
          "2014",
          "2014",
          "2014",
          "2014",
          "2014",
          "2014",
          "2014",
          "2014",
          "2014",
          "2014",
          "2014",
          "2014",
          "2014",
          "2014",
          "2014",
          "2014",
          "2014",
          "2014",
          "2014",
          "2014",
          "2014",
          "2014",
          "2014",
          "2014",
          "2014",
          "2014",
          "2014",
          "2014",
          "2014",
          "2014",
          "2014",
          "2014",
          "2014",
          "2014",
          "2014",
          "2014",
          "2014",
          "2014",
          "2014",
          "2014",
          "2014",
          "2014",
          "2014",
          "2014",
          "2014",
          "2014",
          "2014",
          "2014",
          "2014",
          "2014",
          "2014",
          "2014",
          "2014",
          "2014",
          "2014",
          "2014",
          "2014",
          "2014",
          "2014",
          "2014",
          "2014",
          "2014",
          "2014",
          "2014",
          "2014",
          "2014",
          "2014",
          "2014",
          "2014",
          "2014",
          "2014",
          "2014",
          "2014",
          "2014",
          "2014",
          "2014",
          "2014",
          "2014",
          "2014",
          "2014",
          "2014",
          "2014",
          "2014",
          "2014",
          "2014",
          "2014",
          "2014",
          "2014",
          "2014",
          "2014",
          "2014",
          "2014",
          "2014",
          "2014",
          "2014",
          "2014",
          "2014",
          "2014",
          "2014",
          "2014",
          "2014",
          "2014",
          "2014",
          "2014",
          "2014",
          "2014",
          "2014",
          "2014",
          "2014",
          "2014",
          "2014",
          "2014",
          "2014",
          "2014",
          "2014",
          "2014",
          "2014",
          "2014",
          "2014",
          "2014",
          "2014",
          "2014",
          "2014",
          "2014",
          "2014",
          "2014",
          "2014",
          "2014",
          "2014",
          "2014",
          "2014",
          "2014",
          "2014",
          "2014",
          "2014",
          "2014",
          "2014",
          "2014",
          "2014",
          "2014",
          "2014",
          "2014",
          "2014",
          "2014",
          "2014",
          "2014",
          "2014",
          "2014",
          "2014",
          "2014",
          "2014",
          "2014",
          "2014",
          "2014",
          "2014",
          "2014",
          "2014",
          "2014",
          "2014",
          "2014",
          "2014",
          "2014",
          "2014",
          "2014",
          "2014",
          "2014",
          "2014",
          "2014",
          "2014",
          "2014",
          "2014",
          "2014",
          "2014",
          "2014",
          "2014",
          "2014",
          "2014",
          "2014",
          "2014",
          "2014",
          "2014",
          "2014",
          "2014",
          "2014",
          "2014",
          "2014",
          "2014",
          "2014",
          "2014",
          "2014",
          "2014",
          "2014",
          "2014",
          "2014",
          "2014",
          "2014",
          "2014",
          "2014",
          "2014",
          "2014",
          "2014",
          "2014",
          "2014",
          "2014",
          "2014",
          "2014",
          "2014",
          "2014",
          "2014",
          "2014",
          "2014",
          "2014",
          "2014",
          "2014",
          "2014",
          "2014",
          "2014",
          "2014",
          "2014",
          "2014",
          "2014",
          "2014",
          "2014",
          "2014",
          "2014",
          "2014",
          "2014",
          "2014",
          "2014",
          "2014",
          "2014",
          "2014",
          "2014",
          "2014",
          "2014",
          "2014",
          "2014",
          "2014",
          "2014",
          "2014",
          "2014",
          "2014",
          "2014",
          "2014",
          "2014",
          "2014",
          "2014",
          "2014",
          "2014",
          "2014",
          "2014",
          "2014",
          "2014",
          "2014",
          "2014",
          "2014",
          "2014",
          "2014",
          "2014",
          "2014",
          "2014",
          "2014",
          "2014",
          "2014",
          "2014",
          "2014",
          "2014",
          "2014",
          "2014",
          "2014",
          "2014",
          "2014",
          "2014",
          "2014",
          "2014",
          "2014",
          "2014",
          "2014",
          "2014",
          "2014",
          "2014",
          "2014",
          "2014",
          "2014",
          "2014",
          "2014",
          "2014",
          "2014",
          "2014",
          "2014",
          "2014",
          "2014",
          "2014",
          "2014",
          "2014",
          "2014",
          "2014",
          "2014",
          "2014",
          "2014",
          "2014",
          "2014",
          "2014",
          "2014",
          "2014",
          "2014",
          "2014",
          "2015",
          "2015",
          "2015",
          "2015",
          "2015",
          "2015",
          "2015",
          "2015",
          "2015",
          "2015",
          "2015",
          "2015",
          "2015",
          "2015",
          "2015",
          "2015",
          "2015",
          "2015",
          "2015",
          "2015",
          "2015",
          "2015",
          "2015",
          "2015",
          "2015",
          "2015",
          "2015",
          "2015",
          "2015",
          "2015",
          "2015",
          "2015",
          "2015",
          "2015",
          "2015",
          "2015",
          "2015",
          "2015",
          "2015",
          "2015",
          "2015",
          "2015",
          "2015",
          "2015",
          "2015",
          "2015",
          "2015",
          "2015",
          "2015",
          "2015",
          "2015",
          "2015",
          "2015",
          "2015",
          "2015",
          "2015",
          "2015",
          "2015",
          "2015",
          "2015",
          "2015",
          "2015",
          "2015",
          "2015",
          "2015",
          "2015",
          "2015",
          "2015",
          "2015",
          "2015",
          "2015",
          "2015",
          "2015",
          "2015",
          "2015",
          "2015",
          "2015",
          "2015",
          "2015",
          "2015",
          "2015",
          "2015",
          "2015",
          "2015",
          "2015",
          "2015",
          "2015",
          "2015",
          "2015",
          "2015",
          "2015",
          "2015",
          "2015",
          "2015",
          "2015",
          "2015",
          "2015",
          "2015",
          "2015",
          "2015",
          "2015",
          "2015",
          "2015",
          "2015",
          "2015",
          "2015",
          "2015",
          "2015",
          "2015",
          "2015",
          "2015",
          "2015",
          "2015",
          "2015",
          "2015",
          "2015",
          "2015",
          "2015",
          "2015",
          "2015",
          "2015",
          "2015",
          "2015",
          "2015",
          "2015",
          "2015",
          "2015",
          "2015",
          "2015",
          "2015",
          "2015",
          "2015",
          "2015",
          "2015",
          "2015",
          "2015",
          "2015",
          "2015",
          "2015",
          "2015",
          "2015",
          "2015",
          "2015",
          "2015",
          "2015",
          "2015",
          "2015",
          "2015",
          "2015",
          "2015",
          "2015",
          "2015",
          "2015",
          "2015",
          "2015",
          "2015",
          "2015",
          "2015",
          "2015",
          "2015",
          "2015",
          "2015",
          "2015",
          "2015",
          "2015",
          "2015",
          "2015",
          "2015",
          "2015",
          "2015",
          "2015",
          "2015",
          "2015",
          "2015",
          "2015",
          "2015",
          "2015",
          "2015",
          "2015",
          "2015",
          "2015",
          "2015",
          "2015",
          "2015",
          "2015",
          "2015",
          "2015",
          "2015",
          "2015",
          "2015",
          "2015",
          "2015",
          "2015",
          "2015",
          "2015",
          "2015",
          "2015",
          "2015",
          "2015",
          "2015",
          "2015",
          "2015",
          "2015",
          "2015",
          "2015",
          "2015",
          "2015",
          "2015",
          "2015",
          "2015",
          "2015",
          "2015",
          "2015",
          "2015",
          "2015",
          "2015",
          "2015",
          "2015",
          "2015",
          "2015",
          "2015",
          "2015",
          "2015",
          "2015",
          "2015",
          "2015",
          "2015",
          "2015",
          "2015",
          "2015",
          "2015",
          "2015",
          "2015",
          "2015",
          "2015",
          "2015",
          "2015",
          "2015",
          "2015",
          "2015",
          "2015",
          "2015",
          "2015",
          "2015",
          "2015",
          "2015",
          "2015",
          "2015",
          "2015",
          "2015",
          "2015",
          "2015",
          "2015",
          "2015",
          "2015",
          "2015",
          "2015",
          "2015",
          "2015",
          "2015",
          "2015",
          "2015",
          "2015",
          "2015",
          "2015",
          "2015",
          "2015",
          "2015",
          "2015",
          "2015",
          "2015",
          "2015",
          "2015",
          "2015",
          "2015",
          "2015",
          "2015",
          "2015",
          "2015",
          "2015",
          "2015",
          "2015",
          "2015",
          "2015",
          "2015",
          "2015",
          "2015",
          "2015",
          "2015",
          "2015",
          "2015",
          "2015",
          "2015",
          "2015",
          "2015",
          "2015",
          "2015",
          "2015",
          "2015",
          "2015",
          "2015",
          "2015",
          "2015",
          "2015",
          "2015",
          "2015",
          "2015",
          "2015",
          "2015",
          "2015",
          "2015",
          "2015",
          "2015",
          "2015",
          "2015",
          "2015",
          "2015",
          "2015",
          "2015",
          "2015",
          "2015",
          "2015",
          "2015",
          "2015",
          "2015",
          "2015",
          "2015",
          "2015",
          "2015",
          "2015",
          "2015",
          "2015",
          "2015",
          "2015",
          "2015",
          "2015",
          "2015",
          "2015",
          "2015",
          "2015",
          "2015",
          "2015",
          "2015",
          "2015",
          "2015",
          "2015",
          "2015",
          "2015",
          "2015",
          "2015",
          "2015",
          "2015",
          "2015",
          "2015",
          "2015",
          "2015",
          "2015",
          "2015",
          "2015",
          "2015",
          "2015",
          "2015",
          "2015",
          "2015",
          "2015",
          "2016",
          "2016",
          "2016",
          "2016",
          "2016",
          "2016",
          "2016",
          "2016",
          "2016",
          "2016",
          "2016",
          "2016",
          "2016",
          "2016",
          "2016",
          "2016",
          "2016",
          "2016",
          "2016",
          "2016",
          "2016",
          "2016",
          "2016",
          "2016",
          "2016",
          "2016",
          "2016",
          "2016",
          "2016",
          "2016",
          "2016",
          "2016",
          "2016",
          "2016",
          "2016",
          "2016",
          "2016",
          "2016",
          "2016",
          "2016",
          "2016",
          "2016",
          "2016",
          "2016",
          "2016",
          "2016",
          "2016",
          "2016",
          "2016",
          "2016",
          "2016",
          "2016",
          "2016",
          "2016",
          "2016",
          "2016",
          "2016",
          "2016",
          "2016",
          "2016",
          "2016",
          "2016",
          "2016",
          "2016",
          "2016",
          "2016",
          "2016",
          "2016",
          "2016",
          "2016",
          "2016",
          "2016",
          "2016",
          "2016",
          "2016",
          "2016",
          "2016",
          "2016",
          "2016",
          "2016",
          "2016",
          "2016",
          "2016",
          "2016",
          "2016",
          "2016",
          "2016",
          "2016",
          "2016",
          "2016",
          "2016",
          "2016",
          "2016",
          "2016",
          "2016",
          "2016",
          "2016",
          "2016",
          "2016",
          "2016",
          "2016",
          "2016",
          "2016",
          "2016",
          "2016",
          "2016",
          "2016",
          "2016",
          "2016",
          "2016",
          "2016",
          "2016",
          "2016",
          "2016",
          "2016",
          "2016",
          "2016",
          "2016",
          "2016",
          "2016",
          "2016",
          "2016",
          "2016",
          "2016",
          "2016",
          "2016",
          "2016",
          "2016",
          "2016",
          "2016",
          "2016",
          "2016",
          "2016",
          "2016",
          "2016",
          "2016",
          "2016",
          "2016",
          "2016",
          "2016",
          "2016",
          "2016",
          "2016",
          "2016",
          "2016",
          "2016",
          "2016",
          "2016",
          "2016",
          "2016",
          "2016",
          "2016",
          "2016",
          "2016",
          "2016",
          "2016",
          "2016",
          "2016",
          "2016",
          "2016",
          "2016",
          "2016",
          "2016",
          "2016",
          "2016",
          "2016",
          "2016",
          "2016",
          "2016",
          "2016",
          "2016",
          "2016",
          "2016",
          "2016",
          "2016",
          "2016",
          "2016",
          "2016",
          "2016",
          "2016",
          "2016",
          "2016",
          "2016",
          "2016",
          "2016",
          "2016",
          "2016",
          "2016",
          "2016",
          "2016",
          "2016",
          "2016",
          "2016",
          "2016",
          "2016",
          "2016",
          "2016",
          "2016",
          "2016",
          "2016",
          "2016",
          "2016",
          "2016",
          "2016",
          "2016",
          "2016",
          "2016",
          "2016",
          "2016",
          "2016",
          "2016",
          "2016",
          "2016",
          "2016",
          "2016",
          "2016",
          "2016",
          "2016",
          "2016",
          "2016",
          "2016",
          "2016",
          "2016",
          "2016",
          "2016",
          "2016",
          "2016",
          "2016",
          "2016",
          "2016",
          "2016",
          "2016",
          "2016",
          "2016",
          "2016",
          "2016",
          "2016",
          "2016",
          "2016",
          "2016",
          "2016",
          "2016",
          "2016",
          "2016",
          "2016",
          "2016",
          "2016",
          "2016",
          "2016",
          "2016",
          "2016",
          "2016",
          "2016",
          "2016",
          "2016",
          "2016",
          "2016",
          "2016",
          "2016",
          "2016",
          "2016",
          "2016",
          "2016",
          "2016",
          "2016",
          "2016",
          "2016",
          "2016",
          "2016",
          "2016",
          "2016",
          "2016",
          "2016",
          "2016",
          "2016",
          "2016",
          "2016",
          "2016",
          "2016",
          "2016",
          "2016",
          "2016",
          "2016",
          "2016",
          "2016",
          "2016",
          "2016",
          "2016",
          "2016",
          "2016",
          "2016",
          "2016",
          "2016",
          "2016",
          "2016",
          "2016",
          "2016",
          "2016",
          "2016",
          "2016",
          "2016",
          "2016",
          "2016",
          "2016",
          "2016",
          "2016",
          "2016",
          "2016",
          "2016",
          "2016",
          "2016",
          "2016",
          "2016",
          "2016",
          "2016",
          "2016",
          "2016",
          "2016",
          "2016",
          "2016",
          "2016",
          "2016",
          "2016",
          "2016",
          "2016",
          "2016",
          "2016",
          "2016",
          "2016",
          "2016",
          "2016",
          "2016",
          "2016",
          "2016",
          "2016",
          "2016",
          "2016",
          "2016",
          "2016",
          "2016",
          "2016",
          "2016",
          "2016",
          "2016",
          "2016",
          "2016",
          "2016",
          "2016",
          "2016",
          "2016",
          "2016",
          "2016",
          "2016",
          "2016",
          "2016",
          "2016",
          "2016",
          "2016",
          "2016",
          "2016",
          "2016",
          "2016",
          "2016",
          "2016",
          "2016",
          "2016",
          "2017",
          "2017",
          "2017",
          "2017",
          "2017",
          "2017",
          "2017",
          "2017",
          "2017",
          "2017",
          "2017",
          "2017",
          "2017",
          "2017",
          "2017",
          "2017",
          "2017",
          "2017",
          "2017",
          "2017",
          "2017",
          "2017",
          "2017",
          "2017",
          "2017",
          "2017",
          "2017",
          "2017",
          "2017",
          "2017",
          "2017",
          "2017",
          "2017",
          "2017",
          "2017",
          "2017",
          "2017",
          "2017",
          "2017",
          "2017",
          "2017",
          "2017",
          "2017",
          "2017",
          "2017",
          "2017",
          "2017",
          "2017",
          "2017",
          "2017",
          "2017",
          "2017",
          "2017",
          "2017",
          "2017",
          "2017",
          "2017",
          "2017",
          "2017",
          "2017",
          "2017",
          "2017",
          "2017",
          "2017",
          "2017",
          "2017",
          "2017",
          "2017",
          "2017",
          "2017",
          "2017",
          "2017",
          "2017",
          "2017",
          "2017",
          "2017",
          "2017",
          "2017",
          "2017",
          "2017",
          "2017",
          "2017",
          "2017",
          "2017",
          "2017",
          "2017",
          "2017",
          "2017",
          "2017",
          "2017",
          "2017",
          "2017",
          "2017",
          "2017",
          "2017",
          "2017",
          "2017",
          "2017",
          "2017",
          "2017",
          "2017",
          "2017",
          "2017",
          "2017",
          "2017",
          "2017",
          "2017",
          "2017",
          "2017",
          "2017",
          "2017",
          "2017",
          "2017",
          "2017",
          "2017",
          "2017",
          "2017",
          "2017",
          "2017",
          "2017",
          "2017",
          "2017",
          "2017",
          "2017",
          "2017",
          "2017",
          "2017",
          "2017",
          "2017",
          "2017",
          "2017",
          "2017",
          "2017",
          "2017",
          "2017",
          "2017",
          "2017",
          "2017",
          "2017",
          "2017",
          "2017",
          "2017",
          "2017",
          "2017",
          "2017",
          "2017",
          "2017",
          "2017",
          "2017",
          "2017",
          "2017",
          "2017",
          "2017",
          "2017",
          "2017",
          "2017",
          "2017",
          "2017",
          "2017",
          "2017",
          "2017",
          "2017",
          "2017",
          "2017",
          "2017",
          "2017",
          "2017",
          "2017",
          "2017",
          "2017",
          "2017",
          "2017",
          "2017",
          "2017",
          "2017",
          "2017",
          "2017",
          "2017",
          "2017",
          "2017",
          "2017",
          "2017",
          "2017",
          "2017",
          "2017",
          "2017",
          "2017",
          "2017",
          "2017",
          "2017",
          "2017",
          "2017",
          "2017",
          "2017",
          "2017",
          "2017",
          "2017",
          "2017",
          "2017",
          "2017",
          "2017",
          "2017",
          "2017",
          "2017",
          "2017",
          "2017",
          "2017",
          "2017",
          "2017",
          "2017",
          "2017",
          "2017"
         ],
         "xaxis": "x2",
         "y": {
          "bdata": "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",
          "dtype": "f8"
         },
         "yaxis": "y2"
        }
       ],
       "layout": {
        "annotations": [
         {
          "font": {
           "size": 16
          },
          "showarrow": false,
          "text": "Distribution of Daily Returns from 2013 to 2017",
          "x": 0.5,
          "xanchor": "center",
          "xref": "paper",
          "y": 1,
          "yanchor": "bottom",
          "yref": "paper"
         },
         {
          "font": {
           "size": 16
          },
          "showarrow": false,
          "text": "Yearly Volatility Comparison of Daily Returns",
          "x": 0.5,
          "xanchor": "center",
          "xref": "paper",
          "y": 0.375,
          "yanchor": "bottom",
          "yref": "paper"
         }
        ],
        "height": 800,
        "showlegend": false,
        "template": {
         "data": {
          "bar": [
           {
            "error_x": {
             "color": "#2a3f5f"
            },
            "error_y": {
             "color": "#2a3f5f"
            },
            "marker": {
             "line": {
              "color": "white",
              "width": 0.5
             },
             "pattern": {
              "fillmode": "overlay",
              "size": 10,
              "solidity": 0.2
             }
            },
            "type": "bar"
           }
          ],
          "barpolar": [
           {
            "marker": {
             "line": {
              "color": "white",
              "width": 0.5
             },
             "pattern": {
              "fillmode": "overlay",
              "size": 10,
              "solidity": 0.2
             }
            },
            "type": "barpolar"
           }
          ],
          "carpet": [
           {
            "aaxis": {
             "endlinecolor": "#2a3f5f",
             "gridcolor": "#C8D4E3",
             "linecolor": "#C8D4E3",
             "minorgridcolor": "#C8D4E3",
             "startlinecolor": "#2a3f5f"
            },
            "baxis": {
             "endlinecolor": "#2a3f5f",
             "gridcolor": "#C8D4E3",
             "linecolor": "#C8D4E3",
             "minorgridcolor": "#C8D4E3",
             "startlinecolor": "#2a3f5f"
            },
            "type": "carpet"
           }
          ],
          "choropleth": [
           {
            "colorbar": {
             "outlinewidth": 0,
             "ticks": ""
            },
            "type": "choropleth"
           }
          ],
          "contour": [
           {
            "colorbar": {
             "outlinewidth": 0,
             "ticks": ""
            },
            "colorscale": [
             [
              0,
              "#0d0887"
             ],
             [
              0.1111111111111111,
              "#46039f"
             ],
             [
              0.2222222222222222,
              "#7201a8"
             ],
             [
              0.3333333333333333,
              "#9c179e"
             ],
             [
              0.4444444444444444,
              "#bd3786"
             ],
             [
              0.5555555555555556,
              "#d8576b"
             ],
             [
              0.6666666666666666,
              "#ed7953"
             ],
             [
              0.7777777777777778,
              "#fb9f3a"
             ],
             [
              0.8888888888888888,
              "#fdca26"
             ],
             [
              1,
              "#f0f921"
             ]
            ],
            "type": "contour"
           }
          ],
          "contourcarpet": [
           {
            "colorbar": {
             "outlinewidth": 0,
             "ticks": ""
            },
            "type": "contourcarpet"
           }
          ],
          "heatmap": [
           {
            "colorbar": {
             "outlinewidth": 0,
             "ticks": ""
            },
            "colorscale": [
             [
              0,
              "#0d0887"
             ],
             [
              0.1111111111111111,
              "#46039f"
             ],
             [
              0.2222222222222222,
              "#7201a8"
             ],
             [
              0.3333333333333333,
              "#9c179e"
             ],
             [
              0.4444444444444444,
              "#bd3786"
             ],
             [
              0.5555555555555556,
              "#d8576b"
             ],
             [
              0.6666666666666666,
              "#ed7953"
             ],
             [
              0.7777777777777778,
              "#fb9f3a"
             ],
             [
              0.8888888888888888,
              "#fdca26"
             ],
             [
              1,
              "#f0f921"
             ]
            ],
            "type": "heatmap"
           }
          ],
          "histogram": [
           {
            "marker": {
             "pattern": {
              "fillmode": "overlay",
              "size": 10,
              "solidity": 0.2
             }
            },
            "type": "histogram"
           }
          ],
          "histogram2d": [
           {
            "colorbar": {
             "outlinewidth": 0,
             "ticks": ""
            },
            "colorscale": [
             [
              0,
              "#0d0887"
             ],
             [
              0.1111111111111111,
              "#46039f"
             ],
             [
              0.2222222222222222,
              "#7201a8"
             ],
             [
              0.3333333333333333,
              "#9c179e"
             ],
             [
              0.4444444444444444,
              "#bd3786"
             ],
             [
              0.5555555555555556,
              "#d8576b"
             ],
             [
              0.6666666666666666,
              "#ed7953"
             ],
             [
              0.7777777777777778,
              "#fb9f3a"
             ],
             [
              0.8888888888888888,
              "#fdca26"
             ],
             [
              1,
              "#f0f921"
             ]
            ],
            "type": "histogram2d"
           }
          ],
          "histogram2dcontour": [
           {
            "colorbar": {
             "outlinewidth": 0,
             "ticks": ""
            },
            "colorscale": [
             [
              0,
              "#0d0887"
             ],
             [
              0.1111111111111111,
              "#46039f"
             ],
             [
              0.2222222222222222,
              "#7201a8"
             ],
             [
              0.3333333333333333,
              "#9c179e"
             ],
             [
              0.4444444444444444,
              "#bd3786"
             ],
             [
              0.5555555555555556,
              "#d8576b"
             ],
             [
              0.6666666666666666,
              "#ed7953"
             ],
             [
              0.7777777777777778,
              "#fb9f3a"
             ],
             [
              0.8888888888888888,
              "#fdca26"
             ],
             [
              1,
              "#f0f921"
             ]
            ],
            "type": "histogram2dcontour"
           }
          ],
          "mesh3d": [
           {
            "colorbar": {
             "outlinewidth": 0,
             "ticks": ""
            },
            "type": "mesh3d"
           }
          ],
          "parcoords": [
           {
            "line": {
             "colorbar": {
              "outlinewidth": 0,
              "ticks": ""
             }
            },
            "type": "parcoords"
           }
          ],
          "pie": [
           {
            "automargin": true,
            "type": "pie"
           }
          ],
          "scatter": [
           {
            "fillpattern": {
             "fillmode": "overlay",
             "size": 10,
             "solidity": 0.2
            },
            "type": "scatter"
           }
          ],
          "scatter3d": [
           {
            "line": {
             "colorbar": {
              "outlinewidth": 0,
              "ticks": ""
             }
            },
            "marker": {
             "colorbar": {
              "outlinewidth": 0,
              "ticks": ""
             }
            },
            "type": "scatter3d"
           }
          ],
          "scattercarpet": [
           {
            "marker": {
             "colorbar": {
              "outlinewidth": 0,
              "ticks": ""
             }
            },
            "type": "scattercarpet"
           }
          ],
          "scattergeo": [
           {
            "marker": {
             "colorbar": {
              "outlinewidth": 0,
              "ticks": ""
             }
            },
            "type": "scattergeo"
           }
          ],
          "scattergl": [
           {
            "marker": {
             "colorbar": {
              "outlinewidth": 0,
              "ticks": ""
             }
            },
            "type": "scattergl"
           }
          ],
          "scattermap": [
           {
            "marker": {
             "colorbar": {
              "outlinewidth": 0,
              "ticks": ""
             }
            },
            "type": "scattermap"
           }
          ],
          "scattermapbox": [
           {
            "marker": {
             "colorbar": {
              "outlinewidth": 0,
              "ticks": ""
             }
            },
            "type": "scattermapbox"
           }
          ],
          "scatterpolar": [
           {
            "marker": {
             "colorbar": {
              "outlinewidth": 0,
              "ticks": ""
             }
            },
            "type": "scatterpolar"
           }
          ],
          "scatterpolargl": [
           {
            "marker": {
             "colorbar": {
              "outlinewidth": 0,
              "ticks": ""
             }
            },
            "type": "scatterpolargl"
           }
          ],
          "scatterternary": [
           {
            "marker": {
             "colorbar": {
              "outlinewidth": 0,
              "ticks": ""
             }
            },
            "type": "scatterternary"
           }
          ],
          "surface": [
           {
            "colorbar": {
             "outlinewidth": 0,
             "ticks": ""
            },
            "colorscale": [
             [
              0,
              "#0d0887"
             ],
             [
              0.1111111111111111,
              "#46039f"
             ],
             [
              0.2222222222222222,
              "#7201a8"
             ],
             [
              0.3333333333333333,
              "#9c179e"
             ],
             [
              0.4444444444444444,
              "#bd3786"
             ],
             [
              0.5555555555555556,
              "#d8576b"
             ],
             [
              0.6666666666666666,
              "#ed7953"
             ],
             [
              0.7777777777777778,
              "#fb9f3a"
             ],
             [
              0.8888888888888888,
              "#fdca26"
             ],
             [
              1,
              "#f0f921"
             ]
            ],
            "type": "surface"
           }
          ],
          "table": [
           {
            "cells": {
             "fill": {
              "color": "#EBF0F8"
             },
             "line": {
              "color": "white"
             }
            },
            "header": {
             "fill": {
              "color": "#C8D4E3"
             },
             "line": {
              "color": "white"
             }
            },
            "type": "table"
           }
          ]
         },
         "layout": {
          "annotationdefaults": {
           "arrowcolor": "#2a3f5f",
           "arrowhead": 0,
           "arrowwidth": 1
          },
          "autotypenumbers": "strict",
          "coloraxis": {
           "colorbar": {
            "outlinewidth": 0,
            "ticks": ""
           }
          },
          "colorscale": {
           "diverging": [
            [
             0,
             "#8e0152"
            ],
            [
             0.1,
             "#c51b7d"
            ],
            [
             0.2,
             "#de77ae"
            ],
            [
             0.3,
             "#f1b6da"
            ],
            [
             0.4,
             "#fde0ef"
            ],
            [
             0.5,
             "#f7f7f7"
            ],
            [
             0.6,
             "#e6f5d0"
            ],
            [
             0.7,
             "#b8e186"
            ],
            [
             0.8,
             "#7fbc41"
            ],
            [
             0.9,
             "#4d9221"
            ],
            [
             1,
             "#276419"
            ]
           ],
           "sequential": [
            [
             0,
             "#0d0887"
            ],
            [
             0.1111111111111111,
             "#46039f"
            ],
            [
             0.2222222222222222,
             "#7201a8"
            ],
            [
             0.3333333333333333,
             "#9c179e"
            ],
            [
             0.4444444444444444,
             "#bd3786"
            ],
            [
             0.5555555555555556,
             "#d8576b"
            ],
            [
             0.6666666666666666,
             "#ed7953"
            ],
            [
             0.7777777777777778,
             "#fb9f3a"
            ],
            [
             0.8888888888888888,
             "#fdca26"
            ],
            [
             1,
             "#f0f921"
            ]
           ],
           "sequentialminus": [
            [
             0,
             "#0d0887"
            ],
            [
             0.1111111111111111,
             "#46039f"
            ],
            [
             0.2222222222222222,
             "#7201a8"
            ],
            [
             0.3333333333333333,
             "#9c179e"
            ],
            [
             0.4444444444444444,
             "#bd3786"
            ],
            [
             0.5555555555555556,
             "#d8576b"
            ],
            [
             0.6666666666666666,
             "#ed7953"
            ],
            [
             0.7777777777777778,
             "#fb9f3a"
            ],
            [
             0.8888888888888888,
             "#fdca26"
            ],
            [
             1,
             "#f0f921"
            ]
           ]
          },
          "colorway": [
           "#636efa",
           "#EF553B",
           "#00cc96",
           "#ab63fa",
           "#FFA15A",
           "#19d3f3",
           "#FF6692",
           "#B6E880",
           "#FF97FF",
           "#FECB52"
          ],
          "font": {
           "color": "#2a3f5f"
          },
          "geo": {
           "bgcolor": "white",
           "lakecolor": "white",
           "landcolor": "white",
           "showlakes": true,
           "showland": true,
           "subunitcolor": "#C8D4E3"
          },
          "hoverlabel": {
           "align": "left"
          },
          "hovermode": "closest",
          "mapbox": {
           "style": "light"
          },
          "paper_bgcolor": "white",
          "plot_bgcolor": "white",
          "polar": {
           "angularaxis": {
            "gridcolor": "#EBF0F8",
            "linecolor": "#EBF0F8",
            "ticks": ""
           },
           "bgcolor": "white",
           "radialaxis": {
            "gridcolor": "#EBF0F8",
            "linecolor": "#EBF0F8",
            "ticks": ""
           }
          },
          "scene": {
           "xaxis": {
            "backgroundcolor": "white",
            "gridcolor": "#DFE8F3",
            "gridwidth": 2,
            "linecolor": "#EBF0F8",
            "showbackground": true,
            "ticks": "",
            "zerolinecolor": "#EBF0F8"
           },
           "yaxis": {
            "backgroundcolor": "white",
            "gridcolor": "#DFE8F3",
            "gridwidth": 2,
            "linecolor": "#EBF0F8",
            "showbackground": true,
            "ticks": "",
            "zerolinecolor": "#EBF0F8"
           },
           "zaxis": {
            "backgroundcolor": "white",
            "gridcolor": "#DFE8F3",
            "gridwidth": 2,
            "linecolor": "#EBF0F8",
            "showbackground": true,
            "ticks": "",
            "zerolinecolor": "#EBF0F8"
           }
          },
          "shapedefaults": {
           "line": {
            "color": "#2a3f5f"
           }
          },
          "ternary": {
           "aaxis": {
            "gridcolor": "#DFE8F3",
            "linecolor": "#A2B1C6",
            "ticks": ""
           },
           "baxis": {
            "gridcolor": "#DFE8F3",
            "linecolor": "#A2B1C6",
            "ticks": ""
           },
           "bgcolor": "white",
           "caxis": {
            "gridcolor": "#DFE8F3",
            "linecolor": "#A2B1C6",
            "ticks": ""
           }
          },
          "title": {
           "x": 0.05
          },
          "xaxis": {
           "automargin": true,
           "gridcolor": "#EBF0F8",
           "linecolor": "#EBF0F8",
           "ticks": "",
           "title": {
            "standoff": 15
           },
           "zerolinecolor": "#EBF0F8",
           "zerolinewidth": 2
          },
          "yaxis": {
           "automargin": true,
           "gridcolor": "#EBF0F8",
           "linecolor": "#EBF0F8",
           "ticks": "",
           "title": {
            "standoff": 15
           },
           "zerolinecolor": "#EBF0F8",
           "zerolinewidth": 2
          }
         }
        },
        "title": {
         "text": "Bitcoin Price Dynamics: Long-Term Trends and Short-Term Volatility (2013–2017)"
        },
        "xaxis": {
         "anchor": "y",
         "domain": [
          0,
          1
         ],
         "title": {
          "text": "Daily Return (%)"
         }
        },
        "xaxis2": {
         "anchor": "y2",
         "domain": [
          0,
          1
         ],
         "title": {
          "text": "Year"
         }
        },
        "yaxis": {
         "anchor": "x",
         "domain": [
          0.625,
          1
         ],
         "title": {
          "text": "Frequency"
         }
        },
        "yaxis2": {
         "anchor": "x2",
         "domain": [
          0,
          0.375
         ],
         "range": [
          -20,
          20
         ],
         "title": {
          "text": "Daily Return (%)"
         }
        }
       }
      }
     },
     "metadata": {},
     "output_type": "display_data"
    }
   ],
   "source": [
    "# Calculate daily percentage price changes manually with a for-loop\n",
    "change_pct = [np.nan]\n",
    "\n",
    "for i in range(1, len(df['Close'])):\n",
    "    prev = df['Close'].iloc[i-1]\n",
    "    cur = df['Close'].iloc[i]\n",
    "    change_pct.append(100 * ((cur - prev) / prev))\n",
    "\n",
    "# Store calculated daily returns as a new column\n",
    "df['Close_price_pct'] = change_pct\n",
    "\n",
    "df.dropna(inplace=True) # Remove first row\n",
    "\n",
    "# Create histogram of daily returns to visualize overall distribution\n",
    "fig_histo = go.Histogram(\n",
    "    x=df['Close_price_pct'],\n",
    "    nbinsx=100, # Number of bin\n",
    "    name='Daily Return Distribution',\n",
    "    marker=dict(\n",
    "        line=dict(\n",
    "            color='black',\n",
    "            width=1\n",
    "        )\n",
    "    )\n",
    ")\n",
    "\n",
    "# Create boxplot of daily returns per year to compare volatility across time\n",
    "fig_boxplot = go.Box(\n",
    "    x=df.index.strftime('%Y'),\n",
    "    y=df['Close_price_pct'],\n",
    "    boxmean='sd'    # add standard deviation line\n",
    ")\n",
    "\n",
    "# Create a subplot layout\n",
    "fig = make_subplots(\n",
    "    rows=2, cols=1,\n",
    "    shared_xaxes=False,\n",
    "    subplot_titles=('Distribution of Daily Returns from 2013 to 2017', 'Yearly Volatility Comparison of Daily Returns')\n",
    ")\n",
    "\n",
    "# Create a subplot layout\n",
    "fig.add_trace(fig_histo, row=1, col=1)\n",
    "fig.add_trace(fig_boxplot, row=2, col=1)\n",
    "\n",
    "fig.update_layout(\n",
    "    height=800,\n",
    "    showlegend=False,\n",
    "    title='Bitcoin Price Dynamics: Long-Term Trends and Short-Term Volatility (2013–2017)',\n",
    "    template='plotly_white'\n",
    ")\n",
    "\n",
    "# Add axis labels to histogram\n",
    "fig.update_xaxes(title_text='Daily Return (%)', row=1, col=1)\n",
    "fig.update_yaxes(title_text='Frequency', row=1, col=1)\n",
    "\n",
    "# Add axis labels to boxplot\n",
    "fig.update_xaxes(title_text='Year', row=2, col=1)\n",
    "fig.update_yaxes(\n",
    "    title_text='Daily Return (%)',\n",
    "    range=[-20, 20],    # set the y-axis values\n",
    "    row=2, col=1\n",
    ")\n",
    "\n",
    "fig.show()"
   ]
  },
  {
   "cell_type": "code",
   "execution_count": 7,
   "id": "2be8325d",
   "metadata": {},
   "outputs": [
    {
     "data": {
      "image/png": "[encoded data removed]",
      "text/plain": [
       "<IPython.core.display.Image object>"
      ]
     },
     "execution_count": 7,
     "metadata": {},
     "output_type": "execute_result"
    }
   ],
   "source": [
    "# Display the saved plot as a static image as Plotly interactive charts cannot be rendered directly on GitHub\n",
    "\n",
    "from IPython.display import Image\n",
    "\n",
    "Image(\n",
    "    filename=r'D:\\Data Analyst stuffs\\Python stuffs\\Learn Python for Data Analysis\\PYTHON_EXERCISES_UDEMY\\Bitcoin Case Study\\Own_Exercises\\Volatility_Analysis.png'\n",
    ") "
   ]
  }
 ],
 "metadata": {
  "kernelspec": {
   "display_name": "python_course_2",
   "language": "python",
   "name": "python3"
  },
  "language_info": {
   "codemirror_mode": {
    "name": "ipython",
    "version": 3
   },
   "file_extension": ".py",
   "mimetype": "text/x-python",
   "name": "python",
   "nbconvert_exporter": "python",
   "pygments_lexer": "ipython3",
   "version": "3.13.5"
  }
 },
 "nbformat": 4,
 "nbformat_minor": 5
}
