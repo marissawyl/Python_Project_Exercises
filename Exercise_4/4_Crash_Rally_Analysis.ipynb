{
 "cells": [
  {
   "cell_type": "code",
   "execution_count": 2,
   "id": "d42c8721",
   "metadata": {},
   "outputs": [],
   "source": [
    "import pandas as pd\n",
    "import plotly.graph_objects as go"
   ]
  },
  {
   "cell_type": "code",
   "execution_count": 3,
   "id": "339a3982",
   "metadata": {},
   "outputs": [
    {
     "data": {
      "application/vnd.plotly.v1+json": {
       "config": {
        "plotlyServerURL": "https://plot.ly"
       },
       "data": [
        {
         "mode": "lines",
         "name": "Close Price",
         "type": "scatter",
         "x": [
          "2016-01-01T00:00:00.000000000",
          "2016-01-02T00:00:00.000000000",
          "2016-01-03T00:00:00.000000000",
          "2016-01-04T00:00:00.000000000",
          "2016-01-05T00:00:00.000000000",
          "2016-01-06T00:00:00.000000000",
          "2016-01-07T00:00:00.000000000",
          "2016-01-08T00:00:00.000000000",
          "2016-01-09T00:00:00.000000000",
          "2016-01-10T00:00:00.000000000",
          "2016-01-11T00:00:00.000000000",
          "2016-01-12T00:00:00.000000000",
          "2016-01-13T00:00:00.000000000",
          "2016-01-14T00:00:00.000000000",
          "2016-01-15T00:00:00.000000000",
          "2016-01-16T00:00:00.000000000",
          "2016-01-17T00:00:00.000000000",
          "2016-01-18T00:00:00.000000000",
          "2016-01-19T00:00:00.000000000",
          "2016-01-20T00:00:00.000000000",
          "2016-01-21T00:00:00.000000000",
          "2016-01-22T00:00:00.000000000",
          "2016-01-23T00:00:00.000000000",
          "2016-01-24T00:00:00.000000000",
          "2016-01-25T00:00:00.000000000",
          "2016-01-26T00:00:00.000000000",
          "2016-01-27T00:00:00.000000000",
          "2016-01-28T00:00:00.000000000",
          "2016-01-29T00:00:00.000000000",
          "2016-01-30T00:00:00.000000000",
          "2016-01-31T00:00:00.000000000",
          "2016-02-01T00:00:00.000000000",
          "2016-02-02T00:00:00.000000000",
          "2016-02-03T00:00:00.000000000",
          "2016-02-04T00:00:00.000000000",
          "2016-02-05T00:00:00.000000000",
          "2016-02-06T00:00:00.000000000",
          "2016-02-07T00:00:00.000000000",
          "2016-02-08T00:00:00.000000000",
          "2016-02-09T00:00:00.000000000",
          "2016-02-10T00:00:00.000000000",
          "2016-02-11T00:00:00.000000000",
          "2016-02-12T00:00:00.000000000",
          "2016-02-13T00:00:00.000000000",
          "2016-02-14T00:00:00.000000000",
          "2016-02-15T00:00:00.000000000",
          "2016-02-16T00:00:00.000000000",
          "2016-02-17T00:00:00.000000000",
          "2016-02-18T00:00:00.000000000",
          "2016-02-19T00:00:00.000000000",
          "2016-02-20T00:00:00.000000000",
          "2016-02-21T00:00:00.000000000",
          "2016-02-22T00:00:00.000000000",
          "2016-02-23T00:00:00.000000000",
          "2016-02-24T00:00:00.000000000",
          "2016-02-25T00:00:00.000000000",
          "2016-02-26T00:00:00.000000000",
          "2016-02-27T00:00:00.000000000",
          "2016-02-28T00:00:00.000000000",
          "2016-02-29T00:00:00.000000000",
          "2016-03-01T00:00:00.000000000",
          "2016-03-02T00:00:00.000000000",
          "2016-03-03T00:00:00.000000000",
          "2016-03-04T00:00:00.000000000",
          "2016-03-05T00:00:00.000000000",
          "2016-03-06T00:00:00.000000000",
          "2016-03-07T00:00:00.000000000",
          "2016-03-08T00:00:00.000000000",
          "2016-03-09T00:00:00.000000000",
          "2016-03-10T00:00:00.000000000",
          "2016-03-11T00:00:00.000000000",
          "2016-03-12T00:00:00.000000000",
          "2016-03-13T00:00:00.000000000",
          "2016-03-14T00:00:00.000000000",
          "2016-03-15T00:00:00.000000000",
          "2016-03-16T00:00:00.000000000",
          "2016-03-17T00:00:00.000000000",
          "2016-03-18T00:00:00.000000000",
          "2016-03-19T00:00:00.000000000",
          "2016-03-20T00:00:00.000000000",
          "2016-03-21T00:00:00.000000000",
          "2016-03-22T00:00:00.000000000",
          "2016-03-23T00:00:00.000000000",
          "2016-03-24T00:00:00.000000000",
          "2016-03-25T00:00:00.000000000",
          "2016-03-26T00:00:00.000000000",
          "2016-03-27T00:00:00.000000000",
          "2016-03-28T00:00:00.000000000",
          "2016-03-29T00:00:00.000000000",
          "2016-03-30T00:00:00.000000000",
          "2016-03-31T00:00:00.000000000",
          "2016-04-01T00:00:00.000000000",
          "2016-04-02T00:00:00.000000000",
          "2016-04-03T00:00:00.000000000",
          "2016-04-04T00:00:00.000000000",
          "2016-04-05T00:00:00.000000000",
          "2016-04-06T00:00:00.000000000",
          "2016-04-07T00:00:00.000000000",
          "2016-04-08T00:00:00.000000000",
          "2016-04-09T00:00:00.000000000",
          "2016-04-10T00:00:00.000000000",
          "2016-04-11T00:00:00.000000000",
          "2016-04-12T00:00:00.000000000",
          "2016-04-13T00:00:00.000000000",
          "2016-04-14T00:00:00.000000000",
          "2016-04-15T00:00:00.000000000",
          "2016-04-16T00:00:00.000000000",
          "2016-04-17T00:00:00.000000000",
          "2016-04-18T00:00:00.000000000",
          "2016-04-19T00:00:00.000000000",
          "2016-04-20T00:00:00.000000000",
          "2016-04-21T00:00:00.000000000",
          "2016-04-22T00:00:00.000000000",
          "2016-04-23T00:00:00.000000000",
          "2016-04-24T00:00:00.000000000",
          "2016-04-25T00:00:00.000000000",
          "2016-04-26T00:00:00.000000000",
          "2016-04-27T00:00:00.000000000",
          "2016-04-28T00:00:00.000000000",
          "2016-04-29T00:00:00.000000000",
          "2016-04-30T00:00:00.000000000",
          "2016-05-01T00:00:00.000000000",
          "2016-05-02T00:00:00.000000000",
          "2016-05-03T00:00:00.000000000",
          "2016-05-04T00:00:00.000000000",
          "2016-05-05T00:00:00.000000000",
          "2016-05-06T00:00:00.000000000",
          "2016-05-07T00:00:00.000000000",
          "2016-05-08T00:00:00.000000000",
          "2016-05-09T00:00:00.000000000",
          "2016-05-10T00:00:00.000000000",
          "2016-05-11T00:00:00.000000000",
          "2016-05-12T00:00:00.000000000",
          "2016-05-13T00:00:00.000000000",
          "2016-05-14T00:00:00.000000000",
          "2016-05-15T00:00:00.000000000",
          "2016-05-16T00:00:00.000000000",
          "2016-05-17T00:00:00.000000000",
          "2016-05-18T00:00:00.000000000",
          "2016-05-19T00:00:00.000000000",
          "2016-05-20T00:00:00.000000000",
          "2016-05-21T00:00:00.000000000",
          "2016-05-22T00:00:00.000000000",
          "2016-05-23T00:00:00.000000000",
          "2016-05-24T00:00:00.000000000",
          "2016-05-25T00:00:00.000000000",
          "2016-05-26T00:00:00.000000000",
          "2016-05-27T00:00:00.000000000",
          "2016-05-28T00:00:00.000000000",
          "2016-05-29T00:00:00.000000000",
          "2016-05-30T00:00:00.000000000",
          "2016-05-31T00:00:00.000000000",
          "2016-06-01T00:00:00.000000000",
          "2016-06-02T00:00:00.000000000",
          "2016-06-03T00:00:00.000000000",
          "2016-06-04T00:00:00.000000000",
          "2016-06-05T00:00:00.000000000",
          "2016-06-06T00:00:00.000000000",
          "2016-06-07T00:00:00.000000000",
          "2016-06-08T00:00:00.000000000",
          "2016-06-09T00:00:00.000000000",
          "2016-06-10T00:00:00.000000000",
          "2016-06-11T00:00:00.000000000",
          "2016-06-12T00:00:00.000000000",
          "2016-06-13T00:00:00.000000000",
          "2016-06-14T00:00:00.000000000",
          "2016-06-15T00:00:00.000000000",
          "2016-06-16T00:00:00.000000000",
          "2016-06-17T00:00:00.000000000",
          "2016-06-18T00:00:00.000000000",
          "2016-06-19T00:00:00.000000000",
          "2016-06-20T00:00:00.000000000",
          "2016-06-21T00:00:00.000000000",
          "2016-06-22T00:00:00.000000000",
          "2016-06-23T00:00:00.000000000",
          "2016-06-24T00:00:00.000000000",
          "2016-06-25T00:00:00.000000000",
          "2016-06-26T00:00:00.000000000",
          "2016-06-27T00:00:00.000000000",
          "2016-06-28T00:00:00.000000000",
          "2016-06-29T00:00:00.000000000",
          "2016-06-30T00:00:00.000000000",
          "2016-07-01T00:00:00.000000000",
          "2016-07-02T00:00:00.000000000",
          "2016-07-03T00:00:00.000000000",
          "2016-07-04T00:00:00.000000000",
          "2016-07-05T00:00:00.000000000",
          "2016-07-06T00:00:00.000000000",
          "2016-07-07T00:00:00.000000000",
          "2016-07-08T00:00:00.000000000",
          "2016-07-09T00:00:00.000000000",
          "2016-07-10T00:00:00.000000000",
          "2016-07-11T00:00:00.000000000",
          "2016-07-12T00:00:00.000000000",
          "2016-07-13T00:00:00.000000000",
          "2016-07-14T00:00:00.000000000",
          "2016-07-15T00:00:00.000000000",
          "2016-07-16T00:00:00.000000000",
          "2016-07-17T00:00:00.000000000",
          "2016-07-18T00:00:00.000000000",
          "2016-07-19T00:00:00.000000000",
          "2016-07-20T00:00:00.000000000",
          "2016-07-21T00:00:00.000000000",
          "2016-07-22T00:00:00.000000000",
          "2016-07-23T00:00:00.000000000",
          "2016-07-24T00:00:00.000000000",
          "2016-07-25T00:00:00.000000000",
          "2016-07-26T00:00:00.000000000",
          "2016-07-27T00:00:00.000000000",
          "2016-07-28T00:00:00.000000000",
          "2016-07-29T00:00:00.000000000",
          "2016-07-30T00:00:00.000000000",
          "2016-07-31T00:00:00.000000000",
          "2016-08-01T00:00:00.000000000",
          "2016-08-02T00:00:00.000000000",
          "2016-08-03T00:00:00.000000000",
          "2016-08-04T00:00:00.000000000",
          "2016-08-05T00:00:00.000000000",
          "2016-08-06T00:00:00.000000000",
          "2016-08-07T00:00:00.000000000",
          "2016-08-08T00:00:00.000000000",
          "2016-08-09T00:00:00.000000000",
          "2016-08-10T00:00:00.000000000",
          "2016-08-11T00:00:00.000000000",
          "2016-08-12T00:00:00.000000000",
          "2016-08-13T00:00:00.000000000",
          "2016-08-14T00:00:00.000000000",
          "2016-08-15T00:00:00.000000000",
          "2016-08-16T00:00:00.000000000",
          "2016-08-17T00:00:00.000000000",
          "2016-08-18T00:00:00.000000000",
          "2016-08-19T00:00:00.000000000",
          "2016-08-20T00:00:00.000000000",
          "2016-08-21T00:00:00.000000000",
          "2016-08-22T00:00:00.000000000",
          "2016-08-23T00:00:00.000000000",
          "2016-08-24T00:00:00.000000000",
          "2016-08-25T00:00:00.000000000",
          "2016-08-26T00:00:00.000000000",
          "2016-08-27T00:00:00.000000000",
          "2016-08-28T00:00:00.000000000",
          "2016-08-29T00:00:00.000000000",
          "2016-08-30T00:00:00.000000000",
          "2016-08-31T00:00:00.000000000",
          "2016-09-01T00:00:00.000000000",
          "2016-09-02T00:00:00.000000000",
          "2016-09-03T00:00:00.000000000",
          "2016-09-04T00:00:00.000000000",
          "2016-09-05T00:00:00.000000000",
          "2016-09-06T00:00:00.000000000",
          "2016-09-07T00:00:00.000000000",
          "2016-09-08T00:00:00.000000000",
          "2016-09-09T00:00:00.000000000",
          "2016-09-10T00:00:00.000000000",
          "2016-09-11T00:00:00.000000000",
          "2016-09-12T00:00:00.000000000",
          "2016-09-13T00:00:00.000000000",
          "2016-09-14T00:00:00.000000000",
          "2016-09-15T00:00:00.000000000",
          "2016-09-16T00:00:00.000000000",
          "2016-09-17T00:00:00.000000000",
          "2016-09-18T00:00:00.000000000",
          "2016-09-19T00:00:00.000000000",
          "2016-09-20T00:00:00.000000000",
          "2016-09-21T00:00:00.000000000",
          "2016-09-22T00:00:00.000000000",
          "2016-09-23T00:00:00.000000000",
          "2016-09-24T00:00:00.000000000",
          "2016-09-25T00:00:00.000000000",
          "2016-09-26T00:00:00.000000000",
          "2016-09-27T00:00:00.000000000",
          "2016-09-28T00:00:00.000000000",
          "2016-09-29T00:00:00.000000000",
          "2016-09-30T00:00:00.000000000",
          "2016-10-01T00:00:00.000000000",
          "2016-10-02T00:00:00.000000000",
          "2016-10-03T00:00:00.000000000",
          "2016-10-04T00:00:00.000000000",
          "2016-10-05T00:00:00.000000000",
          "2016-10-06T00:00:00.000000000",
          "2016-10-07T00:00:00.000000000",
          "2016-10-08T00:00:00.000000000",
          "2016-10-09T00:00:00.000000000",
          "2016-10-10T00:00:00.000000000",
          "2016-10-11T00:00:00.000000000",
          "2016-10-12T00:00:00.000000000",
          "2016-10-13T00:00:00.000000000",
          "2016-10-14T00:00:00.000000000",
          "2016-10-15T00:00:00.000000000",
          "2016-10-16T00:00:00.000000000",
          "2016-10-17T00:00:00.000000000",
          "2016-10-18T00:00:00.000000000",
          "2016-10-19T00:00:00.000000000",
          "2016-10-20T00:00:00.000000000",
          "2016-10-21T00:00:00.000000000",
          "2016-10-22T00:00:00.000000000",
          "2016-10-23T00:00:00.000000000",
          "2016-10-24T00:00:00.000000000",
          "2016-10-25T00:00:00.000000000",
          "2016-10-26T00:00:00.000000000",
          "2016-10-27T00:00:00.000000000",
          "2016-10-28T00:00:00.000000000",
          "2016-10-29T00:00:00.000000000",
          "2016-10-30T00:00:00.000000000",
          "2016-10-31T00:00:00.000000000",
          "2016-11-01T00:00:00.000000000",
          "2016-11-02T00:00:00.000000000",
          "2016-11-03T00:00:00.000000000",
          "2016-11-04T00:00:00.000000000",
          "2016-11-05T00:00:00.000000000",
          "2016-11-06T00:00:00.000000000",
          "2016-11-07T00:00:00.000000000",
          "2016-11-08T00:00:00.000000000",
          "2016-11-09T00:00:00.000000000",
          "2016-11-10T00:00:00.000000000",
          "2016-11-11T00:00:00.000000000",
          "2016-11-12T00:00:00.000000000",
          "2016-11-13T00:00:00.000000000",
          "2016-11-14T00:00:00.000000000",
          "2016-11-15T00:00:00.000000000",
          "2016-11-16T00:00:00.000000000",
          "2016-11-17T00:00:00.000000000",
          "2016-11-18T00:00:00.000000000",
          "2016-11-19T00:00:00.000000000",
          "2016-11-20T00:00:00.000000000",
          "2016-11-21T00:00:00.000000000",
          "2016-11-22T00:00:00.000000000",
          "2016-11-23T00:00:00.000000000",
          "2016-11-24T00:00:00.000000000",
          "2016-11-25T00:00:00.000000000",
          "2016-11-26T00:00:00.000000000",
          "2016-11-27T00:00:00.000000000",
          "2016-11-28T00:00:00.000000000",
          "2016-11-29T00:00:00.000000000",
          "2016-11-30T00:00:00.000000000",
          "2016-12-01T00:00:00.000000000",
          "2016-12-02T00:00:00.000000000",
          "2016-12-03T00:00:00.000000000",
          "2016-12-04T00:00:00.000000000",
          "2016-12-05T00:00:00.000000000",
          "2016-12-06T00:00:00.000000000",
          "2016-12-07T00:00:00.000000000",
          "2016-12-08T00:00:00.000000000",
          "2016-12-09T00:00:00.000000000",
          "2016-12-10T00:00:00.000000000",
          "2016-12-11T00:00:00.000000000",
          "2016-12-12T00:00:00.000000000",
          "2016-12-13T00:00:00.000000000",
          "2016-12-14T00:00:00.000000000",
          "2016-12-15T00:00:00.000000000",
          "2016-12-16T00:00:00.000000000",
          "2016-12-17T00:00:00.000000000",
          "2016-12-18T00:00:00.000000000",
          "2016-12-19T00:00:00.000000000",
          "2016-12-20T00:00:00.000000000",
          "2016-12-21T00:00:00.000000000",
          "2016-12-22T00:00:00.000000000",
          "2016-12-23T00:00:00.000000000",
          "2016-12-24T00:00:00.000000000",
          "2016-12-25T00:00:00.000000000",
          "2016-12-26T00:00:00.000000000",
          "2016-12-27T00:00:00.000000000",
          "2016-12-28T00:00:00.000000000",
          "2016-12-29T00:00:00.000000000",
          "2016-12-30T00:00:00.000000000",
          "2016-12-31T00:00:00.000000000"
         ],
         "y": {
          "bdata": "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",
          "dtype": "f8"
         }
        },
        {
         "marker": {
          "color": "red",
          "size": 10
         },
         "mode": "markers+text",
         "name": "Largest Drawdown",
         "text": "Crash -28.6%",
         "textposition": "bottom center",
         "type": "scatter",
         "x": [
          "2016-08-02T00:00:00"
         ],
         "y": [
          547.47
         ]
        },
        {
         "marker": {
          "color": "green",
          "size": 10
         },
         "mode": "markers+text",
         "name": "Largest Rally",
         "text": "Rally 33.4%",
         "textposition": "top center",
         "type": "scatter",
         "x": [
          "2016-06-16T00:00:00"
         ],
         "y": [
          766.31
         ]
        }
       ],
       "layout": {
        "template": {
         "data": {
          "bar": [
           {
            "error_x": {
             "color": "#2a3f5f"
            },
            "error_y": {
             "color": "#2a3f5f"
            },
            "marker": {
             "line": {
              "color": "#E5ECF6",
              "width": 0.5
             },
             "pattern": {
              "fillmode": "overlay",
              "size": 10,
              "solidity": 0.2
             }
            },
            "type": "bar"
           }
          ],
          "barpolar": [
           {
            "marker": {
             "line": {
              "color": "#E5ECF6",
              "width": 0.5
             },
             "pattern": {
              "fillmode": "overlay",
              "size": 10,
              "solidity": 0.2
             }
            },
            "type": "barpolar"
           }
          ],
          "carpet": [
           {
            "aaxis": {
             "endlinecolor": "#2a3f5f",
             "gridcolor": "white",
             "linecolor": "white",
             "minorgridcolor": "white",
             "startlinecolor": "#2a3f5f"
            },
            "baxis": {
             "endlinecolor": "#2a3f5f",
             "gridcolor": "white",
             "linecolor": "white",
             "minorgridcolor": "white",
             "startlinecolor": "#2a3f5f"
            },
            "type": "carpet"
           }
          ],
          "choropleth": [
           {
            "colorbar": {
             "outlinewidth": 0,
             "ticks": ""
            },
            "type": "choropleth"
           }
          ],
          "contour": [
           {
            "colorbar": {
             "outlinewidth": 0,
             "ticks": ""
            },
            "colorscale": [
             [
              0,
              "#0d0887"
             ],
             [
              0.1111111111111111,
              "#46039f"
             ],
             [
              0.2222222222222222,
              "#7201a8"
             ],
             [
              0.3333333333333333,
              "#9c179e"
             ],
             [
              0.4444444444444444,
              "#bd3786"
             ],
             [
              0.5555555555555556,
              "#d8576b"
             ],
             [
              0.6666666666666666,
              "#ed7953"
             ],
             [
              0.7777777777777778,
              "#fb9f3a"
             ],
             [
              0.8888888888888888,
              "#fdca26"
             ],
             [
              1,
              "#f0f921"
             ]
            ],
            "type": "contour"
           }
          ],
          "contourcarpet": [
           {
            "colorbar": {
             "outlinewidth": 0,
             "ticks": ""
            },
            "type": "contourcarpet"
           }
          ],
          "heatmap": [
           {
            "colorbar": {
             "outlinewidth": 0,
             "ticks": ""
            },
            "colorscale": [
             [
              0,
              "#0d0887"
             ],
             [
              0.1111111111111111,
              "#46039f"
             ],
             [
              0.2222222222222222,
              "#7201a8"
             ],
             [
              0.3333333333333333,
              "#9c179e"
             ],
             [
              0.4444444444444444,
              "#bd3786"
             ],
             [
              0.5555555555555556,
              "#d8576b"
             ],
             [
              0.6666666666666666,
              "#ed7953"
             ],
             [
              0.7777777777777778,
              "#fb9f3a"
             ],
             [
              0.8888888888888888,
              "#fdca26"
             ],
             [
              1,
              "#f0f921"
             ]
            ],
            "type": "heatmap"
           }
          ],
          "histogram": [
           {
            "marker": {
             "pattern": {
              "fillmode": "overlay",
              "size": 10,
              "solidity": 0.2
             }
            },
            "type": "histogram"
           }
          ],
          "histogram2d": [
           {
            "colorbar": {
             "outlinewidth": 0,
             "ticks": ""
            },
            "colorscale": [
             [
              0,
              "#0d0887"
             ],
             [
              0.1111111111111111,
              "#46039f"
             ],
             [
              0.2222222222222222,
              "#7201a8"
             ],
             [
              0.3333333333333333,
              "#9c179e"
             ],
             [
              0.4444444444444444,
              "#bd3786"
             ],
             [
              0.5555555555555556,
              "#d8576b"
             ],
             [
              0.6666666666666666,
              "#ed7953"
             ],
             [
              0.7777777777777778,
              "#fb9f3a"
             ],
             [
              0.8888888888888888,
              "#fdca26"
             ],
             [
              1,
              "#f0f921"
             ]
            ],
            "type": "histogram2d"
           }
          ],
          "histogram2dcontour": [
           {
            "colorbar": {
             "outlinewidth": 0,
             "ticks": ""
            },
            "colorscale": [
             [
              0,
              "#0d0887"
             ],
             [
              0.1111111111111111,
              "#46039f"
             ],
             [
              0.2222222222222222,
              "#7201a8"
             ],
             [
              0.3333333333333333,
              "#9c179e"
             ],
             [
              0.4444444444444444,
              "#bd3786"
             ],
             [
              0.5555555555555556,
              "#d8576b"
             ],
             [
              0.6666666666666666,
              "#ed7953"
             ],
             [
              0.7777777777777778,
              "#fb9f3a"
             ],
             [
              0.8888888888888888,
              "#fdca26"
             ],
             [
              1,
              "#f0f921"
             ]
            ],
            "type": "histogram2dcontour"
           }
          ],
          "mesh3d": [
           {
            "colorbar": {
             "outlinewidth": 0,
             "ticks": ""
            },
            "type": "mesh3d"
           }
          ],
          "parcoords": [
           {
            "line": {
             "colorbar": {
              "outlinewidth": 0,
              "ticks": ""
             }
            },
            "type": "parcoords"
           }
          ],
          "pie": [
           {
            "automargin": true,
            "type": "pie"
           }
          ],
          "scatter": [
           {
            "fillpattern": {
             "fillmode": "overlay",
             "size": 10,
             "solidity": 0.2
            },
            "type": "scatter"
           }
          ],
          "scatter3d": [
           {
            "line": {
             "colorbar": {
              "outlinewidth": 0,
              "ticks": ""
             }
            },
            "marker": {
             "colorbar": {
              "outlinewidth": 0,
              "ticks": ""
             }
            },
            "type": "scatter3d"
           }
          ],
          "scattercarpet": [
           {
            "marker": {
             "colorbar": {
              "outlinewidth": 0,
              "ticks": ""
             }
            },
            "type": "scattercarpet"
           }
          ],
          "scattergeo": [
           {
            "marker": {
             "colorbar": {
              "outlinewidth": 0,
              "ticks": ""
             }
            },
            "type": "scattergeo"
           }
          ],
          "scattergl": [
           {
            "marker": {
             "colorbar": {
              "outlinewidth": 0,
              "ticks": ""
             }
            },
            "type": "scattergl"
           }
          ],
          "scattermap": [
           {
            "marker": {
             "colorbar": {
              "outlinewidth": 0,
              "ticks": ""
             }
            },
            "type": "scattermap"
           }
          ],
          "scattermapbox": [
           {
            "marker": {
             "colorbar": {
              "outlinewidth": 0,
              "ticks": ""
             }
            },
            "type": "scattermapbox"
           }
          ],
          "scatterpolar": [
           {
            "marker": {
             "colorbar": {
              "outlinewidth": 0,
              "ticks": ""
             }
            },
            "type": "scatterpolar"
           }
          ],
          "scatterpolargl": [
           {
            "marker": {
             "colorbar": {
              "outlinewidth": 0,
              "ticks": ""
             }
            },
            "type": "scatterpolargl"
           }
          ],
          "scatterternary": [
           {
            "marker": {
             "colorbar": {
              "outlinewidth": 0,
              "ticks": ""
             }
            },
            "type": "scatterternary"
           }
          ],
          "surface": [
           {
            "colorbar": {
             "outlinewidth": 0,
             "ticks": ""
            },
            "colorscale": [
             [
              0,
              "#0d0887"
             ],
             [
              0.1111111111111111,
              "#46039f"
             ],
             [
              0.2222222222222222,
              "#7201a8"
             ],
             [
              0.3333333333333333,
              "#9c179e"
             ],
             [
              0.4444444444444444,
              "#bd3786"
             ],
             [
              0.5555555555555556,
              "#d8576b"
             ],
             [
              0.6666666666666666,
              "#ed7953"
             ],
             [
              0.7777777777777778,
              "#fb9f3a"
             ],
             [
              0.8888888888888888,
              "#fdca26"
             ],
             [
              1,
              "#f0f921"
             ]
            ],
            "type": "surface"
           }
          ],
          "table": [
           {
            "cells": {
             "fill": {
              "color": "#EBF0F8"
             },
             "line": {
              "color": "white"
             }
            },
            "header": {
             "fill": {
              "color": "#C8D4E3"
             },
             "line": {
              "color": "white"
             }
            },
            "type": "table"
           }
          ]
         },
         "layout": {
          "annotationdefaults": {
           "arrowcolor": "#2a3f5f",
           "arrowhead": 0,
           "arrowwidth": 1
          },
          "autotypenumbers": "strict",
          "coloraxis": {
           "colorbar": {
            "outlinewidth": 0,
            "ticks": ""
           }
          },
          "colorscale": {
           "diverging": [
            [
             0,
             "#8e0152"
            ],
            [
             0.1,
             "#c51b7d"
            ],
            [
             0.2,
             "#de77ae"
            ],
            [
             0.3,
             "#f1b6da"
            ],
            [
             0.4,
             "#fde0ef"
            ],
            [
             0.5,
             "#f7f7f7"
            ],
            [
             0.6,
             "#e6f5d0"
            ],
            [
             0.7,
             "#b8e186"
            ],
            [
             0.8,
             "#7fbc41"
            ],
            [
             0.9,
             "#4d9221"
            ],
            [
             1,
             "#276419"
            ]
           ],
           "sequential": [
            [
             0,
             "#0d0887"
            ],
            [
             0.1111111111111111,
             "#46039f"
            ],
            [
             0.2222222222222222,
             "#7201a8"
            ],
            [
             0.3333333333333333,
             "#9c179e"
            ],
            [
             0.4444444444444444,
             "#bd3786"
            ],
            [
             0.5555555555555556,
             "#d8576b"
            ],
            [
             0.6666666666666666,
             "#ed7953"
            ],
            [
             0.7777777777777778,
             "#fb9f3a"
            ],
            [
             0.8888888888888888,
             "#fdca26"
            ],
            [
             1,
             "#f0f921"
            ]
           ],
           "sequentialminus": [
            [
             0,
             "#0d0887"
            ],
            [
             0.1111111111111111,
             "#46039f"
            ],
            [
             0.2222222222222222,
             "#7201a8"
            ],
            [
             0.3333333333333333,
             "#9c179e"
            ],
            [
             0.4444444444444444,
             "#bd3786"
            ],
            [
             0.5555555555555556,
             "#d8576b"
            ],
            [
             0.6666666666666666,
             "#ed7953"
            ],
            [
             0.7777777777777778,
             "#fb9f3a"
            ],
            [
             0.8888888888888888,
             "#fdca26"
            ],
            [
             1,
             "#f0f921"
            ]
           ]
          },
          "colorway": [
           "#636efa",
           "#EF553B",
           "#00cc96",
           "#ab63fa",
           "#FFA15A",
           "#19d3f3",
           "#FF6692",
           "#B6E880",
           "#FF97FF",
           "#FECB52"
          ],
          "font": {
           "color": "#2a3f5f"
          },
          "geo": {
           "bgcolor": "white",
           "lakecolor": "white",
           "landcolor": "#E5ECF6",
           "showlakes": true,
           "showland": true,
           "subunitcolor": "white"
          },
          "hoverlabel": {
           "align": "left"
          },
          "hovermode": "closest",
          "mapbox": {
           "style": "light"
          },
          "paper_bgcolor": "white",
          "plot_bgcolor": "#E5ECF6",
          "polar": {
           "angularaxis": {
            "gridcolor": "white",
            "linecolor": "white",
            "ticks": ""
           },
           "bgcolor": "#E5ECF6",
           "radialaxis": {
            "gridcolor": "white",
            "linecolor": "white",
            "ticks": ""
           }
          },
          "scene": {
           "xaxis": {
            "backgroundcolor": "#E5ECF6",
            "gridcolor": "white",
            "gridwidth": 2,
            "linecolor": "white",
            "showbackground": true,
            "ticks": "",
            "zerolinecolor": "white"
           },
           "yaxis": {
            "backgroundcolor": "#E5ECF6",
            "gridcolor": "white",
            "gridwidth": 2,
            "linecolor": "white",
            "showbackground": true,
            "ticks": "",
            "zerolinecolor": "white"
           },
           "zaxis": {
            "backgroundcolor": "#E5ECF6",
            "gridcolor": "white",
            "gridwidth": 2,
            "linecolor": "white",
            "showbackground": true,
            "ticks": "",
            "zerolinecolor": "white"
           }
          },
          "shapedefaults": {
           "line": {
            "color": "#2a3f5f"
           }
          },
          "ternary": {
           "aaxis": {
            "gridcolor": "white",
            "linecolor": "white",
            "ticks": ""
           },
           "baxis": {
            "gridcolor": "white",
            "linecolor": "white",
            "ticks": ""
           },
           "bgcolor": "#E5ECF6",
           "caxis": {
            "gridcolor": "white",
            "linecolor": "white",
            "ticks": ""
           }
          },
          "title": {
           "x": 0.05
          },
          "xaxis": {
           "automargin": true,
           "gridcolor": "white",
           "linecolor": "white",
           "ticks": "",
           "title": {
            "standoff": 15
           },
           "zerolinecolor": "white",
           "zerolinewidth": 2
          },
          "yaxis": {
           "automargin": true,
           "gridcolor": "white",
           "linecolor": "white",
           "ticks": "",
           "title": {
            "standoff": 15
           },
           "zerolinecolor": "white",
           "zerolinewidth": 2
          }
         }
        },
        "title": {
         "text": "Bitcoin Price Movements with Largest Crash and Rally<br><sub>Case Study: Year 2016</sub>"
        },
        "xaxis": {
         "title": {
          "text": "Date"
         }
        },
        "yaxis": {
         "title": {
          "text": "Closing Price (USD)"
         }
        }
       }
      }
     },
     "metadata": {},
     "output_type": "display_data"
    }
   ],
   "source": [
    "df = pd.read_csv(r'D:\\Data Analyst stuffs\\Python stuffs\\Learn Python for Data Analysis\\PYTHON_EXERCISES_UDEMY\\Bitcoin Case Study\\bitcoin_price_Training - Training.csv')\n",
    "\n",
    "df['Date'] = pd.to_datetime(df['Date'])\n",
    "df = df.set_index('Date').sort_index()\n",
    "\n",
    "# Focus only on 2016 data (plus Dec 2015 to ensure smooth continuity at the start)\n",
    "df_2016 = df.loc[(df.index.year == 2016) | (df.index.to_period('M') == '2015-12')].copy()\n",
    "\n",
    "# ---- Largest Drawdown ----\n",
    "# cummax() finds the running peak → drawdown = (price - peak)/peak\n",
    "df_2016['Close_peak'] = df_2016['Close'].cummax()\n",
    "df_2016['Drawdown'] = (df_2016['Close'] - df_2016['Close_peak']) / df_2016['Close_peak']\n",
    "drawdown_max_val = df_2016['Drawdown'].min()        # worst drop in %\n",
    "drawdown_max_idx = df_2016['Drawdown'].idxmin()     # get the worst drop index\n",
    "\n",
    "# ---- Largest Rally ----\n",
    "window = 7              # rolling change over 7 periods (7 days since data is daily)\n",
    "rally_threshold = 0.1\n",
    "\n",
    "df_2016['Rally'] = df_2016['Close'].pct_change(periods=window)\n",
    "rally_max_val = df_2016['Rally'].max()      # strongest gain %\n",
    "rally_max_idx = df_2016['Rally'].idxmax()   # get the strongest gain index\n",
    "\n",
    "# Keep only 2016 dates (drop the Dec 2015 warm-up)\n",
    "df_2016 = df_2016.loc[(df_2016.index.year == 2016)]\n",
    "\n",
    "# ---- Plotting ----\n",
    "fig = go.Figure()\n",
    "\n",
    "# Line plot of closing prices\n",
    "fig_line = go.Scatter(\n",
    "    x=df_2016.index,\n",
    "    y=df_2016['Close'],\n",
    "    mode='lines',\n",
    "    name='Close Price'\n",
    ")\n",
    "\n",
    "# Mark the largest drawdown\n",
    "fig_drawdown = go.Scatter(\n",
    "    x=[drawdown_max_idx],\n",
    "    y=[df_2016.loc[drawdown_max_idx, 'Close']],\n",
    "    mode='markers+text',\n",
    "    marker=dict(color='red', size=10),\n",
    "    text=f'Crash {drawdown_max_val*100:.1f}%',\n",
    "    textposition='bottom center',\n",
    "    name='Largest Drawdown'\n",
    ")\n",
    "\n",
    "# Mark the largest rally\n",
    "fig_rally = go.Scatter(\n",
    "    x=[rally_max_idx],\n",
    "    y=[df_2016.loc[rally_max_idx, 'Close']],\n",
    "    mode='markers+text',\n",
    "    marker=dict(color='green', size=10),\n",
    "    text=f'Rally {rally_max_val*100:.1f}%',\n",
    "    textposition='top center',\n",
    "    name='Largest Rally'\n",
    ")\n",
    "\n",
    "# Add all plots to the figure\n",
    "fig.add_traces([fig_line, fig_drawdown, fig_rally])\n",
    "\n",
    "fig.update_layout(\n",
    "    title='Bitcoin Price Movements with Largest Crash and Rally'\\\n",
    "          '<br><sub>Case Study: Year 2016</sub>',\n",
    "    xaxis_title='Date',\n",
    "    yaxis_title='Closing Price (USD)'\n",
    ")\n",
    "\n",
    "fig.show()"
   ]
  },
  {
   "cell_type": "code",
   "execution_count": 1,
   "id": "87a7ce91",
   "metadata": {},
   "outputs": [
    {
     "data": {
      "image/png": "[encoded data removed]",
      "text/plain": [
       "<IPython.core.display.Image object>"
      ]
     },
     "execution_count": 1,
     "metadata": {},
     "output_type": "execute_result"
    }
   ],
   "source": [
    "# Display the saved plot as a static image as Plotly interactive charts cannot be rendered directly on GitHub\n",
    "\n",
    "from IPython.display import Image\n",
    "\n",
    "Image(\n",
    "    filename=r'D:\\Data Analyst stuffs\\Python stuffs\\Learn Python for Data Analysis\\PYTHON_EXERCISES_UDEMY\\Bitcoin Case Study\\Own_Exercises\\Crash_Rally_Analysis.png'\n",
    ")"
   ]
  }
 ],
 "metadata": {
  "kernelspec": {
   "display_name": "python_course_2",
   "language": "python",
   "name": "python3"
  },
  "language_info": {
   "codemirror_mode": {
    "name": "ipython",
    "version": 3
   },
   "file_extension": ".py",
   "mimetype": "text/x-python",
   "name": "python",
   "nbconvert_exporter": "python",
   "pygments_lexer": "ipython3",
   "version": "3.13.5"
  }
 },
 "nbformat": 4,
 "nbformat_minor": 5
}
