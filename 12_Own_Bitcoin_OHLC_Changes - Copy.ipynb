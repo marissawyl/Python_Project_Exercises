{
 "cells": [
  {
   "cell_type": "code",
   "execution_count": 1,
   "id": "88fea00e",
   "metadata": {},
   "outputs": [],
   "source": [
    "import pandas as pd\n",
    "import plotly.graph_objects as go\n",
    "import plotly.express as px\n",
    "from plotly.subplots import make_subplots"
   ]
  },
  {
   "cell_type": "code",
   "execution_count": 2,
   "id": "d2c877aa",
   "metadata": {},
   "outputs": [],
   "source": [
    "df = pd.read_csv(r'D:\\Data Analyst stuffs\\Python stuffs\\Learn Python for Data Analysis\\PYTHON_EXERCISES_UDEMY\\Bitcoin Case Study\\bitcoin_price_Training - Training.csv')\n",
    "\n",
    "# Convert the datetime from str to datetime\n",
    "df['Date'] = pd.to_datetime(df['Date'])\n",
    "\n",
    "# Set 'Date' as index\n",
    "df = df.set_index('Date').sort_index()"
   ]
  },
  {
   "cell_type": "code",
   "execution_count": 6,
   "id": "b91701b8",
   "metadata": {},
   "outputs": [
    {
     "data": {
      "application/vnd.plotly.v1+json": {
       "config": {
        "plotlyServerURL": "https://plot.ly"
       },
       "data": [
        {
         "hovertemplate": "Date=%{x}<br>Close=%{y}<extra></extra>",
         "legendgroup": "",
         "line": {
          "color": "#636efa",
          "dash": "solid"
         },
         "marker": {
          "symbol": "circle"
         },
         "mode": "lines",
         "name": "",
         "orientation": "v",
         "showlegend": false,
         "type": "scatter",
         "x": [
          "2013-06-30T00:00:00.000000000",
          "2013-09-30T00:00:00.000000000",
          "2013-12-31T00:00:00.000000000",
          "2014-03-31T00:00:00.000000000",
          "2014-06-30T00:00:00.000000000",
          "2014-09-30T00:00:00.000000000",
          "2014-12-31T00:00:00.000000000",
          "2015-03-31T00:00:00.000000000",
          "2015-06-30T00:00:00.000000000",
          "2015-09-30T00:00:00.000000000",
          "2015-12-31T00:00:00.000000000",
          "2016-03-31T00:00:00.000000000",
          "2016-06-30T00:00:00.000000000",
          "2016-09-30T00:00:00.000000000",
          "2016-12-31T00:00:00.000000000",
          "2017-03-31T00:00:00.000000000",
          "2017-06-30T00:00:00.000000000",
          "2017-09-30T00:00:00.000000000"
         ],
         "xaxis": "x",
         "y": {
          "bdata": "exSuR2HKXEDDtBbzotJbQEMWspCFan9AppvEILDkhUCx1SdKb0eAQOySyodxsIBAlpEHUTZRdkAklNHbsmZvQFLbgep0m21APcnEOoTbb0A9iLLRl6B1QDuogzqoq3lA8r14JfEDgEAuJ1hGnj2DQC2lM3TF5YZAgQJRbNQqkEBzNVdzNeKdQG1j1TbWrqNA",
          "dtype": "f8"
         },
         "yaxis": "y"
        },
        {
         "close": {
          "bdata": "mpmZmRkFo0A9Ctej8JSjQIXrUbgeCKRA4XoUrkdTpEAUrkfh+lOkQIXrUbgeYaRAuB6F61Gto0BI4XoUrhakQHsUrkfhrKNAhetRuB6JokCuR+F6lEOiQEjhehSuvaJAzczMzMxrokBI4XoUrnKhQD0K16NwO59A4XoUrkcnnkC4HoXr0WihQPYoXI/CHaJAj8L1KNzCoUAzMzMzMwOmQOxRuB6F16RACtejcD30pUDNzMzMzFSlQB+F61G4haVAKVyPwvUgpEBmZmZm5sKjQMP1KFyP36RA7FG4HgXypUBmZmZm5kylQI/C9ShciqVASOF6FK52pkA=",
          "dtype": "f8"
         },
         "high": {
          "bdata": "16NwPYqmo0DD9Shcj6SjQAAAAAAARqRASOF6FC6PpEDNzMzMTH2kQD0K16NwcaRA4XoUrkfIpkBI4XoUrhakQBSuR+H6lqRAuB6F61HSo0A9Ctej8NqiQFK4HoVr76JAPQrXo3DyokAAAAAAgHaiQOF6FK5HbqFA16NwPYoVoEAUrkfh+myhQB+F61E4p6JApHA9Cle6okBmZmZmZqmmQLgehevRLKZApHA9CtdcpkCPwvUoXCCmQOxRuB6FsqVAXI/C9SigpUDsUbgehWWkQHE9CtejCqVAZmZmZuaipkDsUbgehfGlQMP1KFwPjaVACtejcD2TpkA=",
          "dtype": "f8"
         },
         "low": {
          "bdata": "KVyPwnXmokBI4XoUrrWiQD0K16PwYKNAMzMzM7P+o0CamZmZGdWjQHsUrkdhK6RACtejcL2Fo0CF61G4nnijQEjhehQuq6NA9ihcj0IiokCF61G4nvGhQOF6FK5HxqFAXI/C9ahJokA9CtejcA6hQHE9CtejGZ9AhetRuB7MnEAUrkfhejKeQNejcD2K6aBAKVyPwnWooUDhehSux7uhQDMzMzOze6RAUrgehWvDpEB7FK5H4bukQHsUrkdhFqVAUrgehetho0CamZmZmSWjQEjhehSuwqNAKVyPwnXvpECamZmZmQmlQDMzMzOzqaRAH4XrUThBpUA=",
          "dtype": "f8"
         },
         "open": {
          "bdata": "MzMzMzN5o0DNzMzMzAijQIXrUbgehaNAAAAAAAACpEAK16NwvVWkQDMzMzMzYKRASOF6FC5hpEDXo3A9irCjQB+F61E4GaRAAAAAAIC6o0DhehSux6OiQNejcD2KOaJAZmZmZmbFokBI4XoULnGiQArXo3A9bKFAUrgehesfn0AUrkfhejKeQNejcD0Kc6FAXI/C9SgmokDhehSux7uhQLgehevRLKZA9ihcj0LZpEAzMzMzM/ClQGZmZmZmWaVAAAAAAACLpUDXo3A9iiOkQFK4HoVr1aNAKVyPwnXvpEDXo3A9Cu6lQOF6FK7HSKVAFK5H4XqWpUA=",
          "dtype": "f8"
         },
         "type": "candlestick",
         "x": [
          "2017-07-01T00:00:00.000000000",
          "2017-07-02T00:00:00.000000000",
          "2017-07-03T00:00:00.000000000",
          "2017-07-04T00:00:00.000000000",
          "2017-07-05T00:00:00.000000000",
          "2017-07-06T00:00:00.000000000",
          "2017-07-07T00:00:00.000000000",
          "2017-07-08T00:00:00.000000000",
          "2017-07-09T00:00:00.000000000",
          "2017-07-10T00:00:00.000000000",
          "2017-07-11T00:00:00.000000000",
          "2017-07-12T00:00:00.000000000",
          "2017-07-13T00:00:00.000000000",
          "2017-07-14T00:00:00.000000000",
          "2017-07-15T00:00:00.000000000",
          "2017-07-16T00:00:00.000000000",
          "2017-07-17T00:00:00.000000000",
          "2017-07-18T00:00:00.000000000",
          "2017-07-19T00:00:00.000000000",
          "2017-07-20T00:00:00.000000000",
          "2017-07-21T00:00:00.000000000",
          "2017-07-22T00:00:00.000000000",
          "2017-07-23T00:00:00.000000000",
          "2017-07-24T00:00:00.000000000",
          "2017-07-25T00:00:00.000000000",
          "2017-07-26T00:00:00.000000000",
          "2017-07-27T00:00:00.000000000",
          "2017-07-28T00:00:00.000000000",
          "2017-07-29T00:00:00.000000000",
          "2017-07-30T00:00:00.000000000",
          "2017-07-31T00:00:00.000000000"
         ],
         "xaxis": "x2",
         "yaxis": "y2"
        }
       ],
       "layout": {
        "annotations": [
         {
          "font": {
           "size": 16
          },
          "showarrow": false,
          "text": "Quarterly Average Closing Price (2013–2017)",
          "x": 0.5,
          "xanchor": "center",
          "xref": "paper",
          "y": 1,
          "yanchor": "bottom",
          "yref": "paper"
         },
         {
          "font": {
           "size": 16
          },
          "showarrow": false,
          "text": "Daily Price Movements – July 2017",
          "x": 0.5,
          "xanchor": "center",
          "xref": "paper",
          "y": 0.375,
          "yanchor": "bottom",
          "yref": "paper"
         }
        ],
        "height": 800,
        "shapes": [
         {
          "fillcolor": "red",
          "layer": "below",
          "line": {
           "width": 0
          },
          "opacity": 0.2,
          "type": "rect",
          "x0": "2017-03-31",
          "x1": "2017-07-31",
          "xref": "x",
          "y0": 0,
          "y1": 2519.418387096774,
          "yref": "y"
         }
        ],
        "showlegend": false,
        "template": {
         "data": {
          "bar": [
           {
            "error_x": {
             "color": "#2a3f5f"
            },
            "error_y": {
             "color": "#2a3f5f"
            },
            "marker": {
             "line": {
              "color": "white",
              "width": 0.5
             },
             "pattern": {
              "fillmode": "overlay",
              "size": 10,
              "solidity": 0.2
             }
            },
            "type": "bar"
           }
          ],
          "barpolar": [
           {
            "marker": {
             "line": {
              "color": "white",
              "width": 0.5
             },
             "pattern": {
              "fillmode": "overlay",
              "size": 10,
              "solidity": 0.2
             }
            },
            "type": "barpolar"
           }
          ],
          "carpet": [
           {
            "aaxis": {
             "endlinecolor": "#2a3f5f",
             "gridcolor": "#C8D4E3",
             "linecolor": "#C8D4E3",
             "minorgridcolor": "#C8D4E3",
             "startlinecolor": "#2a3f5f"
            },
            "baxis": {
             "endlinecolor": "#2a3f5f",
             "gridcolor": "#C8D4E3",
             "linecolor": "#C8D4E3",
             "minorgridcolor": "#C8D4E3",
             "startlinecolor": "#2a3f5f"
            },
            "type": "carpet"
           }
          ],
          "choropleth": [
           {
            "colorbar": {
             "outlinewidth": 0,
             "ticks": ""
            },
            "type": "choropleth"
           }
          ],
          "contour": [
           {
            "colorbar": {
             "outlinewidth": 0,
             "ticks": ""
            },
            "colorscale": [
             [
              0,
              "#0d0887"
             ],
             [
              0.1111111111111111,
              "#46039f"
             ],
             [
              0.2222222222222222,
              "#7201a8"
             ],
             [
              0.3333333333333333,
              "#9c179e"
             ],
             [
              0.4444444444444444,
              "#bd3786"
             ],
             [
              0.5555555555555556,
              "#d8576b"
             ],
             [
              0.6666666666666666,
              "#ed7953"
             ],
             [
              0.7777777777777778,
              "#fb9f3a"
             ],
             [
              0.8888888888888888,
              "#fdca26"
             ],
             [
              1,
              "#f0f921"
             ]
            ],
            "type": "contour"
           }
          ],
          "contourcarpet": [
           {
            "colorbar": {
             "outlinewidth": 0,
             "ticks": ""
            },
            "type": "contourcarpet"
           }
          ],
          "heatmap": [
           {
            "colorbar": {
             "outlinewidth": 0,
             "ticks": ""
            },
            "colorscale": [
             [
              0,
              "#0d0887"
             ],
             [
              0.1111111111111111,
              "#46039f"
             ],
             [
              0.2222222222222222,
              "#7201a8"
             ],
             [
              0.3333333333333333,
              "#9c179e"
             ],
             [
              0.4444444444444444,
              "#bd3786"
             ],
             [
              0.5555555555555556,
              "#d8576b"
             ],
             [
              0.6666666666666666,
              "#ed7953"
             ],
             [
              0.7777777777777778,
              "#fb9f3a"
             ],
             [
              0.8888888888888888,
              "#fdca26"
             ],
             [
              1,
              "#f0f921"
             ]
            ],
            "type": "heatmap"
           }
          ],
          "histogram": [
           {
            "marker": {
             "pattern": {
              "fillmode": "overlay",
              "size": 10,
              "solidity": 0.2
             }
            },
            "type": "histogram"
           }
          ],
          "histogram2d": [
           {
            "colorbar": {
             "outlinewidth": 0,
             "ticks": ""
            },
            "colorscale": [
             [
              0,
              "#0d0887"
             ],
             [
              0.1111111111111111,
              "#46039f"
             ],
             [
              0.2222222222222222,
              "#7201a8"
             ],
             [
              0.3333333333333333,
              "#9c179e"
             ],
             [
              0.4444444444444444,
              "#bd3786"
             ],
             [
              0.5555555555555556,
              "#d8576b"
             ],
             [
              0.6666666666666666,
              "#ed7953"
             ],
             [
              0.7777777777777778,
              "#fb9f3a"
             ],
             [
              0.8888888888888888,
              "#fdca26"
             ],
             [
              1,
              "#f0f921"
             ]
            ],
            "type": "histogram2d"
           }
          ],
          "histogram2dcontour": [
           {
            "colorbar": {
             "outlinewidth": 0,
             "ticks": ""
            },
            "colorscale": [
             [
              0,
              "#0d0887"
             ],
             [
              0.1111111111111111,
              "#46039f"
             ],
             [
              0.2222222222222222,
              "#7201a8"
             ],
             [
              0.3333333333333333,
              "#9c179e"
             ],
             [
              0.4444444444444444,
              "#bd3786"
             ],
             [
              0.5555555555555556,
              "#d8576b"
             ],
             [
              0.6666666666666666,
              "#ed7953"
             ],
             [
              0.7777777777777778,
              "#fb9f3a"
             ],
             [
              0.8888888888888888,
              "#fdca26"
             ],
             [
              1,
              "#f0f921"
             ]
            ],
            "type": "histogram2dcontour"
           }
          ],
          "mesh3d": [
           {
            "colorbar": {
             "outlinewidth": 0,
             "ticks": ""
            },
            "type": "mesh3d"
           }
          ],
          "parcoords": [
           {
            "line": {
             "colorbar": {
              "outlinewidth": 0,
              "ticks": ""
             }
            },
            "type": "parcoords"
           }
          ],
          "pie": [
           {
            "automargin": true,
            "type": "pie"
           }
          ],
          "scatter": [
           {
            "fillpattern": {
             "fillmode": "overlay",
             "size": 10,
             "solidity": 0.2
            },
            "type": "scatter"
           }
          ],
          "scatter3d": [
           {
            "line": {
             "colorbar": {
              "outlinewidth": 0,
              "ticks": ""
             }
            },
            "marker": {
             "colorbar": {
              "outlinewidth": 0,
              "ticks": ""
             }
            },
            "type": "scatter3d"
           }
          ],
          "scattercarpet": [
           {
            "marker": {
             "colorbar": {
              "outlinewidth": 0,
              "ticks": ""
             }
            },
            "type": "scattercarpet"
           }
          ],
          "scattergeo": [
           {
            "marker": {
             "colorbar": {
              "outlinewidth": 0,
              "ticks": ""
             }
            },
            "type": "scattergeo"
           }
          ],
          "scattergl": [
           {
            "marker": {
             "colorbar": {
              "outlinewidth": 0,
              "ticks": ""
             }
            },
            "type": "scattergl"
           }
          ],
          "scattermap": [
           {
            "marker": {
             "colorbar": {
              "outlinewidth": 0,
              "ticks": ""
             }
            },
            "type": "scattermap"
           }
          ],
          "scattermapbox": [
           {
            "marker": {
             "colorbar": {
              "outlinewidth": 0,
              "ticks": ""
             }
            },
            "type": "scattermapbox"
           }
          ],
          "scatterpolar": [
           {
            "marker": {
             "colorbar": {
              "outlinewidth": 0,
              "ticks": ""
             }
            },
            "type": "scatterpolar"
           }
          ],
          "scatterpolargl": [
           {
            "marker": {
             "colorbar": {
              "outlinewidth": 0,
              "ticks": ""
             }
            },
            "type": "scatterpolargl"
           }
          ],
          "scatterternary": [
           {
            "marker": {
             "colorbar": {
              "outlinewidth": 0,
              "ticks": ""
             }
            },
            "type": "scatterternary"
           }
          ],
          "surface": [
           {
            "colorbar": {
             "outlinewidth": 0,
             "ticks": ""
            },
            "colorscale": [
             [
              0,
              "#0d0887"
             ],
             [
              0.1111111111111111,
              "#46039f"
             ],
             [
              0.2222222222222222,
              "#7201a8"
             ],
             [
              0.3333333333333333,
              "#9c179e"
             ],
             [
              0.4444444444444444,
              "#bd3786"
             ],
             [
              0.5555555555555556,
              "#d8576b"
             ],
             [
              0.6666666666666666,
              "#ed7953"
             ],
             [
              0.7777777777777778,
              "#fb9f3a"
             ],
             [
              0.8888888888888888,
              "#fdca26"
             ],
             [
              1,
              "#f0f921"
             ]
            ],
            "type": "surface"
           }
          ],
          "table": [
           {
            "cells": {
             "fill": {
              "color": "#EBF0F8"
             },
             "line": {
              "color": "white"
             }
            },
            "header": {
             "fill": {
              "color": "#C8D4E3"
             },
             "line": {
              "color": "white"
             }
            },
            "type": "table"
           }
          ]
         },
         "layout": {
          "annotationdefaults": {
           "arrowcolor": "#2a3f5f",
           "arrowhead": 0,
           "arrowwidth": 1
          },
          "autotypenumbers": "strict",
          "coloraxis": {
           "colorbar": {
            "outlinewidth": 0,
            "ticks": ""
           }
          },
          "colorscale": {
           "diverging": [
            [
             0,
             "#8e0152"
            ],
            [
             0.1,
             "#c51b7d"
            ],
            [
             0.2,
             "#de77ae"
            ],
            [
             0.3,
             "#f1b6da"
            ],
            [
             0.4,
             "#fde0ef"
            ],
            [
             0.5,
             "#f7f7f7"
            ],
            [
             0.6,
             "#e6f5d0"
            ],
            [
             0.7,
             "#b8e186"
            ],
            [
             0.8,
             "#7fbc41"
            ],
            [
             0.9,
             "#4d9221"
            ],
            [
             1,
             "#276419"
            ]
           ],
           "sequential": [
            [
             0,
             "#0d0887"
            ],
            [
             0.1111111111111111,
             "#46039f"
            ],
            [
             0.2222222222222222,
             "#7201a8"
            ],
            [
             0.3333333333333333,
             "#9c179e"
            ],
            [
             0.4444444444444444,
             "#bd3786"
            ],
            [
             0.5555555555555556,
             "#d8576b"
            ],
            [
             0.6666666666666666,
             "#ed7953"
            ],
            [
             0.7777777777777778,
             "#fb9f3a"
            ],
            [
             0.8888888888888888,
             "#fdca26"
            ],
            [
             1,
             "#f0f921"
            ]
           ],
           "sequentialminus": [
            [
             0,
             "#0d0887"
            ],
            [
             0.1111111111111111,
             "#46039f"
            ],
            [
             0.2222222222222222,
             "#7201a8"
            ],
            [
             0.3333333333333333,
             "#9c179e"
            ],
            [
             0.4444444444444444,
             "#bd3786"
            ],
            [
             0.5555555555555556,
             "#d8576b"
            ],
            [
             0.6666666666666666,
             "#ed7953"
            ],
            [
             0.7777777777777778,
             "#fb9f3a"
            ],
            [
             0.8888888888888888,
             "#fdca26"
            ],
            [
             1,
             "#f0f921"
            ]
           ]
          },
          "colorway": [
           "#636efa",
           "#EF553B",
           "#00cc96",
           "#ab63fa",
           "#FFA15A",
           "#19d3f3",
           "#FF6692",
           "#B6E880",
           "#FF97FF",
           "#FECB52"
          ],
          "font": {
           "color": "#2a3f5f"
          },
          "geo": {
           "bgcolor": "white",
           "lakecolor": "white",
           "landcolor": "white",
           "showlakes": true,
           "showland": true,
           "subunitcolor": "#C8D4E3"
          },
          "hoverlabel": {
           "align": "left"
          },
          "hovermode": "closest",
          "mapbox": {
           "style": "light"
          },
          "paper_bgcolor": "white",
          "plot_bgcolor": "white",
          "polar": {
           "angularaxis": {
            "gridcolor": "#EBF0F8",
            "linecolor": "#EBF0F8",
            "ticks": ""
           },
           "bgcolor": "white",
           "radialaxis": {
            "gridcolor": "#EBF0F8",
            "linecolor": "#EBF0F8",
            "ticks": ""
           }
          },
          "scene": {
           "xaxis": {
            "backgroundcolor": "white",
            "gridcolor": "#DFE8F3",
            "gridwidth": 2,
            "linecolor": "#EBF0F8",
            "showbackground": true,
            "ticks": "",
            "zerolinecolor": "#EBF0F8"
           },
           "yaxis": {
            "backgroundcolor": "white",
            "gridcolor": "#DFE8F3",
            "gridwidth": 2,
            "linecolor": "#EBF0F8",
            "showbackground": true,
            "ticks": "",
            "zerolinecolor": "#EBF0F8"
           },
           "zaxis": {
            "backgroundcolor": "white",
            "gridcolor": "#DFE8F3",
            "gridwidth": 2,
            "linecolor": "#EBF0F8",
            "showbackground": true,
            "ticks": "",
            "zerolinecolor": "#EBF0F8"
           }
          },
          "shapedefaults": {
           "line": {
            "color": "#2a3f5f"
           }
          },
          "ternary": {
           "aaxis": {
            "gridcolor": "#DFE8F3",
            "linecolor": "#A2B1C6",
            "ticks": ""
           },
           "baxis": {
            "gridcolor": "#DFE8F3",
            "linecolor": "#A2B1C6",
            "ticks": ""
           },
           "bgcolor": "white",
           "caxis": {
            "gridcolor": "#DFE8F3",
            "linecolor": "#A2B1C6",
            "ticks": ""
           }
          },
          "title": {
           "x": 0.05
          },
          "xaxis": {
           "automargin": true,
           "gridcolor": "#EBF0F8",
           "linecolor": "#EBF0F8",
           "ticks": "",
           "title": {
            "standoff": 15
           },
           "zerolinecolor": "#EBF0F8",
           "zerolinewidth": 2
          },
          "yaxis": {
           "automargin": true,
           "gridcolor": "#EBF0F8",
           "linecolor": "#EBF0F8",
           "ticks": "",
           "title": {
            "standoff": 15
           },
           "zerolinecolor": "#EBF0F8",
           "zerolinewidth": 2
          }
         }
        },
        "title": {
         "text": "Price Trends Overview: 2013–2017 with Detailed July 2017 Candlestick"
        },
        "xaxis": {
         "anchor": "y",
         "domain": [
          0,
          1
         ]
        },
        "xaxis2": {
         "anchor": "y2",
         "domain": [
          0,
          1
         ],
         "rangeslider": {
          "visible": false
         }
        },
        "yaxis": {
         "anchor": "x",
         "domain": [
          0.625,
          1
         ]
        },
        "yaxis2": {
         "anchor": "x2",
         "domain": [
          0,
          0.375
         ]
        }
       }
      }
     },
     "metadata": {},
     "output_type": "display_data"
    }
   ],
   "source": [
    "# Resample the data to quarterly frequency and calculate the mean closing price\n",
    "quarterly_resample = df['Close'].resample('QE').mean().to_frame()\n",
    "\n",
    "# Extract only the data for July 2017 to use in the candlestick chart\n",
    "df_july = df.loc[(df.index.year == 2017) & (df.index.month == 7)].copy()\n",
    "\n",
    "# Create a line chart showing quarterly average closing prices\n",
    "fig_line = px.line(\n",
    "    data_frame=quarterly_resample,\n",
    "    x=quarterly_resample.index,\n",
    "    y='Close'\n",
    ")\n",
    "\n",
    "# Create a candlestick chart for daily price movements in July 2017\n",
    "fig_candlestick = go.Candlestick(\n",
    "        x=df_july.index,\n",
    "        open=df_july['Open'],\n",
    "        high=df_july['High'],\n",
    "        low=df_july['Low'],\n",
    "        close=df_july['Close']\n",
    ")\n",
    "\n",
    "# Create a subplot layout with 2 rows and 1 column:\n",
    "# - Row 1: quarterly trend line\n",
    "# - Row 2: detailed July candlestick chart\n",
    "fig = make_subplots(\n",
    "    rows=2, cols=1,\n",
    "    shared_xaxes=False,\n",
    "    subplot_titles=('Quarterly Average Closing Price (2013–2017)', 'Daily Price Movements – July 2017')\n",
    ")\n",
    "\n",
    "# Add the line chart traces into the first subplot\n",
    "for trace in fig_line.data:\n",
    "    fig.add_trace(trace, row=1, col=1)\n",
    "\n",
    "# Highlight the period Apr–Jul 2017 with a red shaded rectangle\n",
    "fig.add_shape(\n",
    "    type=\"rect\",\n",
    "    x0=\"2017-03-31\", x1=\"2017-07-31\",\n",
    "    y0=0,\n",
    "    y1=quarterly_resample['Close'].max(),\n",
    "    xref=\"x1\", yref=\"y1\",    # use x and y axis of line chart (row=1, col=1)\n",
    "    fillcolor=\"red\",\n",
    "    opacity=0.2,\n",
    "    layer=\"below\",\n",
    "    line_width=0\n",
    ")\n",
    "\n",
    "# Add the candlestick chart to the second subplot\n",
    "fig.add_trace(fig_candlestick, row=2, col=1)\n",
    "\n",
    "# Adjust height, remove legend, disable candlestick range slider\n",
    "fig.update_layout(\n",
    "    height=800,\n",
    "    showlegend=False,\n",
    "    title='Price Trends Overview: 2013–2017 with Detailed July 2017 Candlestick',\n",
    "    xaxis2_rangeslider_visible=False, # Remove the slider of candlestick plot\n",
    "    template='plotly_white'\n",
    ")\n",
    "\n",
    "fig.show()"
   ]
  }
 ],
 "metadata": {
  "kernelspec": {
   "display_name": "python_course_2",
   "language": "python",
   "name": "python3"
  },
  "language_info": {
   "codemirror_mode": {
    "name": "ipython",
    "version": 3
   },
   "file_extension": ".py",
   "mimetype": "text/x-python",
   "name": "python",
   "nbconvert_exporter": "python",
   "pygments_lexer": "ipython3",
   "version": "3.13.5"
  }
 },
 "nbformat": 4,
 "nbformat_minor": 5
}
